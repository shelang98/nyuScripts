{
 "cells": [
  {
   "cell_type": "markdown",
   "metadata": {},
   "source": [
    "$\\renewcommand{bs}{\\mathbf}$\n",
    "Run this cell..."
   ]
  },
  {
   "cell_type": "markdown",
   "metadata": {},
   "source": [
    "# Homework Set 2"
   ]
  },
  {
   "cell_type": "code",
   "execution_count": 9,
   "metadata": {},
   "outputs": [],
   "source": [
    "import numpy as np\n",
    "import pandas as pd\n",
    "import matplotlib.pyplot as plt \n",
    "from scipy.optimize import linprog\n",
    "import yfinance as yf\n",
    "from datetime import date, timedelta\n",
    "from dateutil.relativedelta import relativedelta"
   ]
  },
  {
   "cell_type": "markdown",
   "metadata": {},
   "source": [
    "## Problem 1 (25 points):\n",
    "\n",
    "You have heard about arbitrage in previous courses, but you may not have actually looked at the different types of arbitrage opportunities mathematically and conducted tests for the existence of arbitrage. We can frame this problem as follows: assume that all securities in the economy cost one dollar, but the returns ($\\bs{r}$) they offer investors differ in different states of the world at time $t=1$.\n",
    "\n",
    "So our world consists of $n$ assets and $m$ states of the world. Returns can be summarized in an $m \\times n$ matrix $S$ of gross returns:\n",
    "\n",
    "$$\n",
    "S = \n",
    "\\begin{bmatrix}\n",
    "1+r_{11} & \\cdots & 1+r_{1n} \\\\\n",
    "\\vdots & \\ddots & \\vdots \\\\\n",
    "1+r_{m1} & \\cdots & 1+r_{mn} \n",
    "\\end{bmatrix}\n",
    "$$\n",
    "\n",
    "\n",
    "Each row is a different state of the world and each column is a different asset. If the number of assets equals the number of states of the world the market is complete. Suppose investors in our market strictly prefer more to less and want to maximize end-of-period wealth. Further assume that they are unrestricted (holdings do not need to sum to one and shorting is allowed). If $\\bs{w}$ is an $n \\times 1$ vector of the percentage holdings in the assets, arbitrage exists if an investor can:\n",
    "* construct a portfolio with positive value today and no further obligation (zero cash flows in all states of the world) - this is known as first-order arbitrage, or \n",
    "* purchase a portfolio for zero cost that will pay off a positive amount in at least one state of the world while paying out nothing in all other states – this is known as second-order arbitrage.\n",
    "\n",
    "Arbitrage in this market can be found by solving a linear program:\n",
    "$$\n",
    "\\min_{\\bs{w}} \\bs{c} =\\bs{w}'\\bs{1}\n",
    "$$\n",
    "$$\n",
    "\\text{subject to: }\n",
    "S \\bs{w} \\ge \\bs{0}\n",
    "$$\n",
    "\n",
    "Where the cost $\\bs{c}$ of establishing an arbitrage portfolio is minimized subject to a payoff constraint. In the constraint, the $\\bs{0}$ is a $m \\times 1$ vector of zeros and, in the objective function, $\\bs{1}$ is a $\\bs{n} \\times \\bs{1}$ vector of ones.\n",
    "\n",
    "\n",
    "| Case | Objective | Case Constraint |\n",
    "|:----: |:--------: |:--------------: |\n",
    "|No Arbitrage | $\\bs{c} = \\bs{0}$ | $S\\bs{w} = \\bs{0}$ |\n",
    "| 1<sup>st</sup> order arbitrage | $\\bs{c} = -\\infty$ | Feasible |\n",
    "| 2<sup>nd</sup> order arbitrage | $\\bs{c} = \\bs{0}$ | Feasible, not all constraints binding |\n",
    "\n",
    "1. What does the definition of a complete market hinge upon? Do you think markets are complete? Why or why not?\n",
    "2. Starting simply, generate asset returns for three states of the world where each return is independent, normal, and has the same mean and volatility, 7% expected return and 15% standard deviation -- you should round/truncate your values so there are no more than 3 decimal places. Now solve the linear programming problem and check to see if arbitrage exists (chances are that it does not!) – remember to build code for all of this (including the code to test for the two types of arbitrage) and make it general since you will be using it in the next part. Can you find the state prices?\n",
    "2. Now expand on your work in part 2.  Suppose you now have 100 assets and 200 states – again, in each case, iid normal (mean = 7% and standard deviation = 15%, with rounded/truncated values so there are no more than 3 decimal places). Run 1,000 simulations, checking for arbitrage in each simulation. What is the frequency of each type of arbitrage in this simulation (a histogram may be appropriate)?  In general, what are the implications of these results for numerical simulations?\n",
    "\n",
    "**Hint:**\n",
    "Use a seed value of 42 for the random number generator so your results can be replicated."
   ]
  },
  {
   "cell_type": "markdown",
   "metadata": {},
   "source": [
    "1. A complete market hinge upon\n",
    "\n",
    "    a) negligible transaction cost and therefore also perfect information.\n",
    "\n",
    "    b) A price for every asset in every possible state of the world\n",
    "\n",
    "I don't think markets are complete, even transaction cost can be reduced, information would not be totally fair because people can make profit from the time difference of information."
   ]
  },
  {
   "cell_type": "markdown",
   "metadata": {},
   "source": [
    "2. start from generate matrix"
   ]
  },
  {
   "cell_type": "code",
   "execution_count": 2,
   "metadata": {},
   "outputs": [],
   "source": [
    "np.random.seed(42)\n",
    "def return_matrix(mu,sigma,m,n):\n",
    "    matrix = np.random.normal(mu+1, sigma, (m,n))\n",
    "    return np.round(matrix,3)"
   ]
  },
  {
   "cell_type": "code",
   "execution_count": 3,
   "metadata": {},
   "outputs": [],
   "source": [
    "def arbitrage(S):\n",
    "    m,n=S.shape\n",
    "    c=np.ones((n,1))\n",
    "    \n",
    "    A_ub=-S\n",
    "    b_ub=np.zeros(m)\n",
    "    res = linprog(c, A_ub, b_ub)\n",
    "    \n",
    "    obj=round(res.fun,3)\n",
    "    slack=round(np.linalg.norm(res.slack),3)\n",
    "    \n",
    "    if obj<0:\n",
    "        return 1\n",
    "    if slack<0:\n",
    "        return 2\n",
    "    else:\n",
    "        return 0"
   ]
  },
  {
   "cell_type": "code",
   "execution_count": 4,
   "metadata": {},
   "outputs": [
    {
     "data": {
      "text/plain": [
       "0"
      ]
     },
     "execution_count": 4,
     "metadata": {},
     "output_type": "execute_result"
    }
   ],
   "source": [
    "S=return_matrix(0.07,0.15,3,3)\n",
    "arbitrage(S)"
   ]
  },
  {
   "cell_type": "markdown",
   "metadata": {},
   "source": [
    "No arbitrage here."
   ]
  },
  {
   "cell_type": "markdown",
   "metadata": {},
   "source": [
    "3. 100 assets and 200 states, 1000 simulations"
   ]
  },
  {
   "cell_type": "code",
   "execution_count": 5,
   "metadata": {},
   "outputs": [
    {
     "ename": "KeyboardInterrupt",
     "evalue": "",
     "output_type": "error",
     "traceback": [
      "\u001b[0;31m---------------------------------------------------------------------------\u001b[0m",
      "\u001b[0;31mKeyboardInterrupt\u001b[0m                         Traceback (most recent call last)",
      "\u001b[0;32m/var/folders/d0/6cymk_pn0yl4bjbhkblw54bh0000gn/T/ipykernel_38062/3009840784.py\u001b[0m in \u001b[0;36m<module>\u001b[0;34m\u001b[0m\n\u001b[1;32m      2\u001b[0m \u001b[0;32mfor\u001b[0m \u001b[0mi\u001b[0m \u001b[0;32min\u001b[0m \u001b[0mrange\u001b[0m\u001b[0;34m(\u001b[0m\u001b[0;36m1000\u001b[0m\u001b[0;34m)\u001b[0m\u001b[0;34m:\u001b[0m\u001b[0;34m\u001b[0m\u001b[0;34m\u001b[0m\u001b[0m\n\u001b[1;32m      3\u001b[0m     \u001b[0mS\u001b[0m\u001b[0;34m=\u001b[0m\u001b[0mreturn_matrix\u001b[0m\u001b[0;34m(\u001b[0m\u001b[0;36m0.07\u001b[0m\u001b[0;34m,\u001b[0m\u001b[0;36m0.15\u001b[0m\u001b[0;34m,\u001b[0m\u001b[0;36m200\u001b[0m\u001b[0;34m,\u001b[0m\u001b[0;36m100\u001b[0m\u001b[0;34m)\u001b[0m\u001b[0;34m\u001b[0m\u001b[0;34m\u001b[0m\u001b[0m\n\u001b[0;32m----> 4\u001b[0;31m     \u001b[0marb\u001b[0m\u001b[0;34m[\u001b[0m\u001b[0mi\u001b[0m\u001b[0;34m]\u001b[0m\u001b[0;34m=\u001b[0m\u001b[0marbitrage\u001b[0m\u001b[0;34m(\u001b[0m\u001b[0mS\u001b[0m\u001b[0;34m)\u001b[0m\u001b[0;34m\u001b[0m\u001b[0;34m\u001b[0m\u001b[0m\n\u001b[0m",
      "\u001b[0;32m/var/folders/d0/6cymk_pn0yl4bjbhkblw54bh0000gn/T/ipykernel_38062/775716085.py\u001b[0m in \u001b[0;36marbitrage\u001b[0;34m(S)\u001b[0m\n\u001b[1;32m      5\u001b[0m     \u001b[0mA_ub\u001b[0m\u001b[0;34m=\u001b[0m\u001b[0;34m-\u001b[0m\u001b[0mS\u001b[0m\u001b[0;34m\u001b[0m\u001b[0;34m\u001b[0m\u001b[0m\n\u001b[1;32m      6\u001b[0m     \u001b[0mb_ub\u001b[0m\u001b[0;34m=\u001b[0m\u001b[0mnp\u001b[0m\u001b[0;34m.\u001b[0m\u001b[0mzeros\u001b[0m\u001b[0;34m(\u001b[0m\u001b[0mm\u001b[0m\u001b[0;34m)\u001b[0m\u001b[0;34m\u001b[0m\u001b[0;34m\u001b[0m\u001b[0m\n\u001b[0;32m----> 7\u001b[0;31m     \u001b[0mres\u001b[0m \u001b[0;34m=\u001b[0m \u001b[0mlinprog\u001b[0m\u001b[0;34m(\u001b[0m\u001b[0mc\u001b[0m\u001b[0;34m,\u001b[0m \u001b[0mA_ub\u001b[0m\u001b[0;34m,\u001b[0m \u001b[0mb_ub\u001b[0m\u001b[0;34m)\u001b[0m\u001b[0;34m\u001b[0m\u001b[0;34m\u001b[0m\u001b[0m\n\u001b[0m\u001b[1;32m      8\u001b[0m \u001b[0;34m\u001b[0m\u001b[0m\n\u001b[1;32m      9\u001b[0m     \u001b[0mobj\u001b[0m\u001b[0;34m=\u001b[0m\u001b[0mround\u001b[0m\u001b[0;34m(\u001b[0m\u001b[0mres\u001b[0m\u001b[0;34m.\u001b[0m\u001b[0mfun\u001b[0m\u001b[0;34m,\u001b[0m\u001b[0;36m3\u001b[0m\u001b[0;34m)\u001b[0m\u001b[0;34m\u001b[0m\u001b[0;34m\u001b[0m\u001b[0m\n",
      "\u001b[0;32m/opt/anaconda3/lib/python3.9/site-packages/scipy/optimize/_linprog.py\u001b[0m in \u001b[0;36mlinprog\u001b[0;34m(c, A_ub, b_ub, A_eq, b_eq, bounds, method, callback, options, x0)\u001b[0m\n\u001b[1;32m    640\u001b[0m                 postsolve_args=postsolve_args, **solver_options)\n\u001b[1;32m    641\u001b[0m         \u001b[0;32melif\u001b[0m \u001b[0mmeth\u001b[0m \u001b[0;34m==\u001b[0m \u001b[0;34m'interior-point'\u001b[0m\u001b[0;34m:\u001b[0m\u001b[0;34m\u001b[0m\u001b[0;34m\u001b[0m\u001b[0m\n\u001b[0;32m--> 642\u001b[0;31m             x, status, message, iteration = _linprog_ip(\n\u001b[0m\u001b[1;32m    643\u001b[0m                 \u001b[0mc\u001b[0m\u001b[0;34m,\u001b[0m \u001b[0mc0\u001b[0m\u001b[0;34m=\u001b[0m\u001b[0mc0\u001b[0m\u001b[0;34m,\u001b[0m \u001b[0mA\u001b[0m\u001b[0;34m=\u001b[0m\u001b[0mA\u001b[0m\u001b[0;34m,\u001b[0m \u001b[0mb\u001b[0m\u001b[0;34m=\u001b[0m\u001b[0mb\u001b[0m\u001b[0;34m,\u001b[0m \u001b[0mcallback\u001b[0m\u001b[0;34m=\u001b[0m\u001b[0mcallback\u001b[0m\u001b[0;34m,\u001b[0m\u001b[0;34m\u001b[0m\u001b[0;34m\u001b[0m\u001b[0m\n\u001b[1;32m    644\u001b[0m                 postsolve_args=postsolve_args, **solver_options)\n",
      "\u001b[0;32m/opt/anaconda3/lib/python3.9/site-packages/scipy/optimize/_linprog_ip.py\u001b[0m in \u001b[0;36m_linprog_ip\u001b[0;34m(c, c0, A, b, callback, postsolve_args, maxiter, tol, disp, alpha0, beta, sparse, lstsq, sym_pos, cholesky, pc, ip, permc_spec, **unknown_options)\u001b[0m\n\u001b[1;32m   1117\u001b[0m     \u001b[0mcholesky\u001b[0m \u001b[0;34m=\u001b[0m \u001b[0mcholesky\u001b[0m \u001b[0;32mor\u001b[0m \u001b[0;34m(\u001b[0m\u001b[0mcholesky\u001b[0m \u001b[0;32mis\u001b[0m \u001b[0;32mNone\u001b[0m \u001b[0;32mand\u001b[0m \u001b[0msym_pos\u001b[0m \u001b[0;32mand\u001b[0m \u001b[0;32mnot\u001b[0m \u001b[0mlstsq\u001b[0m\u001b[0;34m)\u001b[0m\u001b[0;34m\u001b[0m\u001b[0;34m\u001b[0m\u001b[0m\n\u001b[1;32m   1118\u001b[0m \u001b[0;34m\u001b[0m\u001b[0m\n\u001b[0;32m-> 1119\u001b[0;31m     x, status, message, iteration = _ip_hsd(A, b, c, c0, alpha0, beta,\n\u001b[0m\u001b[1;32m   1120\u001b[0m                                             \u001b[0mmaxiter\u001b[0m\u001b[0;34m,\u001b[0m \u001b[0mdisp\u001b[0m\u001b[0;34m,\u001b[0m \u001b[0mtol\u001b[0m\u001b[0;34m,\u001b[0m \u001b[0msparse\u001b[0m\u001b[0;34m,\u001b[0m\u001b[0;34m\u001b[0m\u001b[0;34m\u001b[0m\u001b[0m\n\u001b[1;32m   1121\u001b[0m                                             \u001b[0mlstsq\u001b[0m\u001b[0;34m,\u001b[0m \u001b[0msym_pos\u001b[0m\u001b[0;34m,\u001b[0m \u001b[0mcholesky\u001b[0m\u001b[0;34m,\u001b[0m\u001b[0;34m\u001b[0m\u001b[0;34m\u001b[0m\u001b[0m\n",
      "\u001b[0;32m/opt/anaconda3/lib/python3.9/site-packages/scipy/optimize/_linprog_ip.py\u001b[0m in \u001b[0;36m_ip_hsd\u001b[0;34m(A, b, c, c0, alpha0, beta, maxiter, disp, tol, sparse, lstsq, sym_pos, cholesky, pc, ip, permc_spec, callback, postsolve_args)\u001b[0m\n\u001b[1;32m    748\u001b[0m         \u001b[0;32mtry\u001b[0m\u001b[0;34m:\u001b[0m\u001b[0;34m\u001b[0m\u001b[0;34m\u001b[0m\u001b[0m\n\u001b[1;32m    749\u001b[0m             \u001b[0;31m# Solve [4] 8.6 and 8.7/8.13/8.23\u001b[0m\u001b[0;34m\u001b[0m\u001b[0;34m\u001b[0m\u001b[0m\n\u001b[0;32m--> 750\u001b[0;31m             d_x, d_y, d_z, d_tau, d_kappa = _get_delta(\n\u001b[0m\u001b[1;32m    751\u001b[0m                 \u001b[0mA\u001b[0m\u001b[0;34m,\u001b[0m \u001b[0mb\u001b[0m\u001b[0;34m,\u001b[0m \u001b[0mc\u001b[0m\u001b[0;34m,\u001b[0m \u001b[0mx\u001b[0m\u001b[0;34m,\u001b[0m \u001b[0my\u001b[0m\u001b[0;34m,\u001b[0m \u001b[0mz\u001b[0m\u001b[0;34m,\u001b[0m \u001b[0mtau\u001b[0m\u001b[0;34m,\u001b[0m \u001b[0mkappa\u001b[0m\u001b[0;34m,\u001b[0m \u001b[0mgamma\u001b[0m\u001b[0;34m,\u001b[0m \u001b[0meta\u001b[0m\u001b[0;34m,\u001b[0m\u001b[0;34m\u001b[0m\u001b[0;34m\u001b[0m\u001b[0m\n\u001b[1;32m    752\u001b[0m                 sparse, lstsq, sym_pos, cholesky, pc, ip, permc_spec)\n",
      "\u001b[0;32m/opt/anaconda3/lib/python3.9/site-packages/scipy/optimize/_linprog_ip.py\u001b[0m in \u001b[0;36m_get_delta\u001b[0;34m(A, b, c, x, y, z, tau, kappa, gamma, eta, sparse, lstsq, sym_pos, cholesky, pc, ip, permc_spec)\u001b[0m\n\u001b[1;32m    212\u001b[0m         \u001b[0mM\u001b[0m \u001b[0;34m=\u001b[0m \u001b[0mA\u001b[0m\u001b[0;34m.\u001b[0m\u001b[0mdot\u001b[0m\u001b[0;34m(\u001b[0m\u001b[0msps\u001b[0m\u001b[0;34m.\u001b[0m\u001b[0mdiags\u001b[0m\u001b[0;34m(\u001b[0m\u001b[0mDinv\u001b[0m\u001b[0;34m,\u001b[0m \u001b[0;36m0\u001b[0m\u001b[0;34m,\u001b[0m \u001b[0mformat\u001b[0m\u001b[0;34m=\u001b[0m\u001b[0;34m\"csc\"\u001b[0m\u001b[0;34m)\u001b[0m\u001b[0;34m.\u001b[0m\u001b[0mdot\u001b[0m\u001b[0;34m(\u001b[0m\u001b[0mA\u001b[0m\u001b[0;34m.\u001b[0m\u001b[0mT\u001b[0m\u001b[0;34m)\u001b[0m\u001b[0;34m)\u001b[0m\u001b[0;34m\u001b[0m\u001b[0;34m\u001b[0m\u001b[0m\n\u001b[1;32m    213\u001b[0m     \u001b[0;32melse\u001b[0m\u001b[0;34m:\u001b[0m\u001b[0;34m\u001b[0m\u001b[0;34m\u001b[0m\u001b[0m\n\u001b[0;32m--> 214\u001b[0;31m         \u001b[0mM\u001b[0m \u001b[0;34m=\u001b[0m \u001b[0mA\u001b[0m\u001b[0;34m.\u001b[0m\u001b[0mdot\u001b[0m\u001b[0;34m(\u001b[0m\u001b[0mDinv\u001b[0m\u001b[0;34m.\u001b[0m\u001b[0mreshape\u001b[0m\u001b[0;34m(\u001b[0m\u001b[0;34m-\u001b[0m\u001b[0;36m1\u001b[0m\u001b[0;34m,\u001b[0m \u001b[0;36m1\u001b[0m\u001b[0;34m)\u001b[0m \u001b[0;34m*\u001b[0m \u001b[0mA\u001b[0m\u001b[0;34m.\u001b[0m\u001b[0mT\u001b[0m\u001b[0;34m)\u001b[0m\u001b[0;34m\u001b[0m\u001b[0;34m\u001b[0m\u001b[0m\n\u001b[0m\u001b[1;32m    215\u001b[0m     \u001b[0msolve\u001b[0m \u001b[0;34m=\u001b[0m \u001b[0m_get_solver\u001b[0m\u001b[0;34m(\u001b[0m\u001b[0mM\u001b[0m\u001b[0;34m,\u001b[0m \u001b[0msparse\u001b[0m\u001b[0;34m,\u001b[0m \u001b[0mlstsq\u001b[0m\u001b[0;34m,\u001b[0m \u001b[0msym_pos\u001b[0m\u001b[0;34m,\u001b[0m \u001b[0mcholesky\u001b[0m\u001b[0;34m,\u001b[0m \u001b[0mpermc_spec\u001b[0m\u001b[0;34m)\u001b[0m\u001b[0;34m\u001b[0m\u001b[0;34m\u001b[0m\u001b[0m\n\u001b[1;32m    216\u001b[0m \u001b[0;34m\u001b[0m\u001b[0m\n",
      "\u001b[0;31mKeyboardInterrupt\u001b[0m: "
     ]
    }
   ],
   "source": [
    "arb=np.zeros(1000)\n",
    "for i in range(1000):\n",
    "    S=return_matrix(0.07,0.15,200,100)\n",
    "    arb[i]=arbitrage(S) "
   ]
  },
  {
   "cell_type": "code",
   "execution_count": null,
   "metadata": {},
   "outputs": [],
   "source": [
    "sum(arb)"
   ]
  },
  {
   "cell_type": "markdown",
   "metadata": {},
   "source": [
    "Still no arbitrage in 1000 simulations"
   ]
  },
  {
   "cell_type": "markdown",
   "metadata": {},
   "source": [
    "## Problem 2 (50 points):\n",
    "\n",
    "You can obtain the constituents of the Dow Jones Industrial Average Index (DJIA) from [Wikipedia](https://en.wikipedia.org/wiki/Dow_Jones_Industrial_Average)."
   ]
  },
  {
   "cell_type": "markdown",
   "metadata": {},
   "source": [
    "1. Scrape (if you can) the tickers for the DJIA from the website into a csv (or Excel) file.\n",
    "2. Create a `Python` function to download the past 5 months of daily prices for all of the stocks in the DJIA, reading the tickers from a file. \n",
    "3. Estimate the historical correlation and covariance matrix of the DJIA constituents' daily returns\n",
    "4. Estimate historical excess return of individual stocks (assume the historical risk free rate is 1%)\n",
    "5. Compute the optimal portfolio using the estimated historical excess return and covariance matrix, comment on whether the portfolio looks reasonable.\n",
    "6. Compute the implied return forecast from the actual DJIA portfolio, compare this to the historical estimate, comment on which may be a better forecast for the future returns.\n",
    "7. Compute the condition number of the covariance matrix, and comment on the numerical stability of the optimal portfolio. You can use the python function `numpy.linalg.norm` for matrix norm.\n",
    "8. Take the daily return time series, and split them into two segments: one containing only the odd days' returns and the other containing only the even days' returns. Then estimate every DJIA stock's annualized return and annualized vol from these two data segments, and compare the results. Please comment on which of the two metrics, return or volatility, can be reliably estimated from historical data. \n",
    "9. Please repeat the analysis using weekly returns and comment on whether the results are materially different\n",
    "10. Use numerical simulation to show that the optimal portfolio above does indeed have the largest Sharp ratio for the historical excess return and covariance; the best way to illustrate this is to introduce many random perturbations around the optimal portfolio. `numpy.random` is a random number generator package in Python.\n",
    "11. Comment on what practical implications you might infer from the results from part 10."
   ]
  },
  {
   "cell_type": "markdown",
   "metadata": {},
   "source": [
    "**Hints:**\n",
    "* as discussed in the Linear Algebra Review, returns are only meaningful in the relative sense, so please annualize all your results. You will lose credit without annualization.\n",
    "* you may run into a singular matrix when inverting the covariance matrix, try to find a work around if you do, (imagine what you would do if your future boss needs some results fast, and doesn't understand why a singular matrix can't be inverted).\n",
    "* for part 8, you can use array slice to split btw even and odd elements, see the following example:\n",
    "\n",
    "```\n",
    "whole = np.arange(1, 10)\n",
    "print(\"whole = \", whole)\n",
    "odd = whole[0::2]\n",
    "even = whole[1::2]\n",
    "print(\"even = \", even)\n",
    "print(\"odd = \", odd)\n",
    "```"
   ]
  },
  {
   "cell_type": "code",
   "execution_count": 8,
   "metadata": {},
   "outputs": [
    {
     "data": {
      "text/plain": [
       "30"
      ]
     },
     "execution_count": 8,
     "metadata": {},
     "output_type": "execute_result"
    }
   ],
   "source": [
    "#1. \n",
    "dow_ticker = pd.read_excel(r'/Users/shengbo/Desktop/dow_jones_component.xlsx', header = 1)\n",
    "len(dow_ticker)"
   ]
  },
  {
   "cell_type": "code",
   "execution_count": 13,
   "metadata": {},
   "outputs": [],
   "source": [
    "#2.\n",
    "def tickers_5months(tickers, frequency):\n",
    "    start = date.today() - relativedelta(months = 5)\n",
    "    \n",
    "    if frequency == \"d\":\n",
    "        price = yf.download(tickers, start)[\"Adj Close\"]\n",
    "    if frequency == \"w\":\n",
    "        price = yf.download(tickers, start, interval = \"1wk\")[\"Adj Close\"]\n",
    "    return price"
   ]
  },
  {
   "cell_type": "code",
   "execution_count": 14,
   "metadata": {},
   "outputs": [
    {
     "name": "stdout",
     "output_type": "stream",
     "text": [
      "[*********************100%***********************]  30 of 30 completed\n"
     ]
    }
   ],
   "source": [
    "#3.\n",
    "tickers_list=list(dow_ticker['Symbol'])\n",
    "DJIA_5month=tickers_5months(tickers_list,'d')"
   ]
  },
  {
   "cell_type": "code",
   "execution_count": 15,
   "metadata": {},
   "outputs": [
    {
     "data": {
      "text/html": [
       "<div>\n",
       "<style scoped>\n",
       "    .dataframe tbody tr th:only-of-type {\n",
       "        vertical-align: middle;\n",
       "    }\n",
       "\n",
       "    .dataframe tbody tr th {\n",
       "        vertical-align: top;\n",
       "    }\n",
       "\n",
       "    .dataframe thead th {\n",
       "        text-align: right;\n",
       "    }\n",
       "</style>\n",
       "<table border=\"1\" class=\"dataframe\">\n",
       "  <thead>\n",
       "    <tr style=\"text-align: right;\">\n",
       "      <th></th>\n",
       "      <th>AAPL</th>\n",
       "      <th>AMGN</th>\n",
       "      <th>AXP</th>\n",
       "      <th>BA</th>\n",
       "      <th>CAT</th>\n",
       "      <th>CRM</th>\n",
       "      <th>CSCO</th>\n",
       "      <th>CVX</th>\n",
       "      <th>DIS</th>\n",
       "      <th>DOW</th>\n",
       "      <th>...</th>\n",
       "      <th>MRK</th>\n",
       "      <th>MSFT</th>\n",
       "      <th>NKE</th>\n",
       "      <th>PG</th>\n",
       "      <th>TRV</th>\n",
       "      <th>UNH</th>\n",
       "      <th>V</th>\n",
       "      <th>VZ</th>\n",
       "      <th>WBA</th>\n",
       "      <th>WMT</th>\n",
       "    </tr>\n",
       "    <tr>\n",
       "      <th>Date</th>\n",
       "      <th></th>\n",
       "      <th></th>\n",
       "      <th></th>\n",
       "      <th></th>\n",
       "      <th></th>\n",
       "      <th></th>\n",
       "      <th></th>\n",
       "      <th></th>\n",
       "      <th></th>\n",
       "      <th></th>\n",
       "      <th></th>\n",
       "      <th></th>\n",
       "      <th></th>\n",
       "      <th></th>\n",
       "      <th></th>\n",
       "      <th></th>\n",
       "      <th></th>\n",
       "      <th></th>\n",
       "      <th></th>\n",
       "      <th></th>\n",
       "      <th></th>\n",
       "    </tr>\n",
       "  </thead>\n",
       "  <tbody>\n",
       "    <tr>\n",
       "      <th>2021-10-13</th>\n",
       "      <td>140.525604</td>\n",
       "      <td>200.198257</td>\n",
       "      <td>168.297607</td>\n",
       "      <td>221.779999</td>\n",
       "      <td>186.995132</td>\n",
       "      <td>284.410004</td>\n",
       "      <td>54.300030</td>\n",
       "      <td>105.451286</td>\n",
       "      <td>172.960007</td>\n",
       "      <td>55.548206</td>\n",
       "      <td>...</td>\n",
       "      <td>78.208023</td>\n",
       "      <td>295.158569</td>\n",
       "      <td>155.664383</td>\n",
       "      <td>140.802185</td>\n",
       "      <td>154.682159</td>\n",
       "      <td>401.051270</td>\n",
       "      <td>221.708359</td>\n",
       "      <td>50.738689</td>\n",
       "      <td>46.340351</td>\n",
       "      <td>137.815109</td>\n",
       "    </tr>\n",
       "    <tr>\n",
       "      <th>2021-10-14</th>\n",
       "      <td>143.367828</td>\n",
       "      <td>203.315125</td>\n",
       "      <td>171.080612</td>\n",
       "      <td>217.440002</td>\n",
       "      <td>192.329651</td>\n",
       "      <td>290.019989</td>\n",
       "      <td>55.323997</td>\n",
       "      <td>106.449158</td>\n",
       "      <td>174.410004</td>\n",
       "      <td>57.334419</td>\n",
       "      <td>...</td>\n",
       "      <td>77.593857</td>\n",
       "      <td>301.573547</td>\n",
       "      <td>156.500961</td>\n",
       "      <td>142.393677</td>\n",
       "      <td>154.978882</td>\n",
       "      <td>417.757172</td>\n",
       "      <td>224.419174</td>\n",
       "      <td>51.301903</td>\n",
       "      <td>49.782055</td>\n",
       "      <td>139.309082</td>\n",
       "    </tr>\n",
       "    <tr>\n",
       "      <th>2021-10-15</th>\n",
       "      <td>144.444885</td>\n",
       "      <td>204.357361</td>\n",
       "      <td>175.369858</td>\n",
       "      <td>217.039993</td>\n",
       "      <td>196.971390</td>\n",
       "      <td>291.660004</td>\n",
       "      <td>54.926338</td>\n",
       "      <td>107.231796</td>\n",
       "      <td>176.460007</td>\n",
       "      <td>57.549152</td>\n",
       "      <td>...</td>\n",
       "      <td>77.593857</td>\n",
       "      <td>303.027893</td>\n",
       "      <td>157.367416</td>\n",
       "      <td>142.759415</td>\n",
       "      <td>153.940353</td>\n",
       "      <td>425.419464</td>\n",
       "      <td>230.209549</td>\n",
       "      <td>51.647739</td>\n",
       "      <td>47.968052</td>\n",
       "      <td>139.986374</td>\n",
       "    </tr>\n",
       "    <tr>\n",
       "      <th>2021-10-18</th>\n",
       "      <td>146.150223</td>\n",
       "      <td>199.726288</td>\n",
       "      <td>176.377335</td>\n",
       "      <td>216.979996</td>\n",
       "      <td>196.140015</td>\n",
       "      <td>291.700012</td>\n",
       "      <td>54.866688</td>\n",
       "      <td>107.182877</td>\n",
       "      <td>171.139999</td>\n",
       "      <td>57.539391</td>\n",
       "      <td>...</td>\n",
       "      <td>76.424950</td>\n",
       "      <td>306.095947</td>\n",
       "      <td>158.781647</td>\n",
       "      <td>140.703323</td>\n",
       "      <td>151.210510</td>\n",
       "      <td>421.990814</td>\n",
       "      <td>229.870682</td>\n",
       "      <td>51.292023</td>\n",
       "      <td>47.458176</td>\n",
       "      <td>141.111832</td>\n",
       "    </tr>\n",
       "    <tr>\n",
       "      <th>2021-10-19</th>\n",
       "      <td>148.354187</td>\n",
       "      <td>203.315125</td>\n",
       "      <td>176.866104</td>\n",
       "      <td>215.970001</td>\n",
       "      <td>199.069565</td>\n",
       "      <td>292.339996</td>\n",
       "      <td>55.413471</td>\n",
       "      <td>109.276451</td>\n",
       "      <td>171.179993</td>\n",
       "      <td>57.773647</td>\n",
       "      <td>...</td>\n",
       "      <td>78.742950</td>\n",
       "      <td>307.032288</td>\n",
       "      <td>157.178207</td>\n",
       "      <td>139.042648</td>\n",
       "      <td>153.693085</td>\n",
       "      <td>421.752319</td>\n",
       "      <td>232.731003</td>\n",
       "      <td>51.726784</td>\n",
       "      <td>47.075760</td>\n",
       "      <td>144.109772</td>\n",
       "    </tr>\n",
       "    <tr>\n",
       "      <th>...</th>\n",
       "      <td>...</td>\n",
       "      <td>...</td>\n",
       "      <td>...</td>\n",
       "      <td>...</td>\n",
       "      <td>...</td>\n",
       "      <td>...</td>\n",
       "      <td>...</td>\n",
       "      <td>...</td>\n",
       "      <td>...</td>\n",
       "      <td>...</td>\n",
       "      <td>...</td>\n",
       "      <td>...</td>\n",
       "      <td>...</td>\n",
       "      <td>...</td>\n",
       "      <td>...</td>\n",
       "      <td>...</td>\n",
       "      <td>...</td>\n",
       "      <td>...</td>\n",
       "      <td>...</td>\n",
       "      <td>...</td>\n",
       "      <td>...</td>\n",
       "    </tr>\n",
       "    <tr>\n",
       "      <th>2022-03-07</th>\n",
       "      <td>159.300003</td>\n",
       "      <td>234.360001</td>\n",
       "      <td>159.130005</td>\n",
       "      <td>169.169998</td>\n",
       "      <td>196.699997</td>\n",
       "      <td>196.229996</td>\n",
       "      <td>55.590000</td>\n",
       "      <td>162.039993</td>\n",
       "      <td>133.500000</td>\n",
       "      <td>57.980000</td>\n",
       "      <td>...</td>\n",
       "      <td>77.730003</td>\n",
       "      <td>278.910004</td>\n",
       "      <td>124.440002</td>\n",
       "      <td>152.839996</td>\n",
       "      <td>168.902985</td>\n",
       "      <td>485.433502</td>\n",
       "      <td>190.699997</td>\n",
       "      <td>54.680000</td>\n",
       "      <td>46.990002</td>\n",
       "      <td>141.669998</td>\n",
       "    </tr>\n",
       "    <tr>\n",
       "      <th>2022-03-08</th>\n",
       "      <td>157.440002</td>\n",
       "      <td>231.100006</td>\n",
       "      <td>160.050003</td>\n",
       "      <td>173.800003</td>\n",
       "      <td>210.000000</td>\n",
       "      <td>192.080002</td>\n",
       "      <td>54.400002</td>\n",
       "      <td>170.529999</td>\n",
       "      <td>131.750000</td>\n",
       "      <td>57.840000</td>\n",
       "      <td>...</td>\n",
       "      <td>76.949997</td>\n",
       "      <td>275.850006</td>\n",
       "      <td>121.209999</td>\n",
       "      <td>146.789993</td>\n",
       "      <td>167.569992</td>\n",
       "      <td>472.063049</td>\n",
       "      <td>191.710007</td>\n",
       "      <td>53.250000</td>\n",
       "      <td>47.470001</td>\n",
       "      <td>138.740005</td>\n",
       "    </tr>\n",
       "    <tr>\n",
       "      <th>2022-03-09</th>\n",
       "      <td>162.949997</td>\n",
       "      <td>231.460007</td>\n",
       "      <td>168.649994</td>\n",
       "      <td>178.559998</td>\n",
       "      <td>209.779999</td>\n",
       "      <td>203.160004</td>\n",
       "      <td>55.919998</td>\n",
       "      <td>166.270004</td>\n",
       "      <td>133.649994</td>\n",
       "      <td>59.799999</td>\n",
       "      <td>...</td>\n",
       "      <td>77.790001</td>\n",
       "      <td>288.500000</td>\n",
       "      <td>126.949997</td>\n",
       "      <td>148.770004</td>\n",
       "      <td>171.369995</td>\n",
       "      <td>484.137329</td>\n",
       "      <td>199.759995</td>\n",
       "      <td>53.080002</td>\n",
       "      <td>48.119999</td>\n",
       "      <td>139.460007</td>\n",
       "    </tr>\n",
       "    <tr>\n",
       "      <th>2022-03-10</th>\n",
       "      <td>158.520004</td>\n",
       "      <td>226.949997</td>\n",
       "      <td>169.600006</td>\n",
       "      <td>178.389999</td>\n",
       "      <td>211.789993</td>\n",
       "      <td>200.149994</td>\n",
       "      <td>54.709999</td>\n",
       "      <td>170.820007</td>\n",
       "      <td>133.639999</td>\n",
       "      <td>60.630001</td>\n",
       "      <td>...</td>\n",
       "      <td>77.889999</td>\n",
       "      <td>285.589996</td>\n",
       "      <td>126.029999</td>\n",
       "      <td>144.940002</td>\n",
       "      <td>171.889999</td>\n",
       "      <td>489.990021</td>\n",
       "      <td>197.970001</td>\n",
       "      <td>53.230000</td>\n",
       "      <td>48.070000</td>\n",
       "      <td>142.630005</td>\n",
       "    </tr>\n",
       "    <tr>\n",
       "      <th>2022-03-11</th>\n",
       "      <td>154.729996</td>\n",
       "      <td>228.850006</td>\n",
       "      <td>167.899994</td>\n",
       "      <td>176.229996</td>\n",
       "      <td>214.830002</td>\n",
       "      <td>197.899994</td>\n",
       "      <td>54.689999</td>\n",
       "      <td>170.899994</td>\n",
       "      <td>131.750000</td>\n",
       "      <td>60.910000</td>\n",
       "      <td>...</td>\n",
       "      <td>78.260002</td>\n",
       "      <td>280.070007</td>\n",
       "      <td>122.629997</td>\n",
       "      <td>143.220001</td>\n",
       "      <td>173.729996</td>\n",
       "      <td>482.869995</td>\n",
       "      <td>196.710007</td>\n",
       "      <td>53.040001</td>\n",
       "      <td>47.439999</td>\n",
       "      <td>142.070007</td>\n",
       "    </tr>\n",
       "  </tbody>\n",
       "</table>\n",
       "<p>104 rows × 30 columns</p>\n",
       "</div>"
      ],
      "text/plain": [
       "                  AAPL        AMGN         AXP          BA         CAT  \\\n",
       "Date                                                                     \n",
       "2021-10-13  140.525604  200.198257  168.297607  221.779999  186.995132   \n",
       "2021-10-14  143.367828  203.315125  171.080612  217.440002  192.329651   \n",
       "2021-10-15  144.444885  204.357361  175.369858  217.039993  196.971390   \n",
       "2021-10-18  146.150223  199.726288  176.377335  216.979996  196.140015   \n",
       "2021-10-19  148.354187  203.315125  176.866104  215.970001  199.069565   \n",
       "...                ...         ...         ...         ...         ...   \n",
       "2022-03-07  159.300003  234.360001  159.130005  169.169998  196.699997   \n",
       "2022-03-08  157.440002  231.100006  160.050003  173.800003  210.000000   \n",
       "2022-03-09  162.949997  231.460007  168.649994  178.559998  209.779999   \n",
       "2022-03-10  158.520004  226.949997  169.600006  178.389999  211.789993   \n",
       "2022-03-11  154.729996  228.850006  167.899994  176.229996  214.830002   \n",
       "\n",
       "                   CRM       CSCO         CVX         DIS        DOW  ...  \\\n",
       "Date                                                                  ...   \n",
       "2021-10-13  284.410004  54.300030  105.451286  172.960007  55.548206  ...   \n",
       "2021-10-14  290.019989  55.323997  106.449158  174.410004  57.334419  ...   \n",
       "2021-10-15  291.660004  54.926338  107.231796  176.460007  57.549152  ...   \n",
       "2021-10-18  291.700012  54.866688  107.182877  171.139999  57.539391  ...   \n",
       "2021-10-19  292.339996  55.413471  109.276451  171.179993  57.773647  ...   \n",
       "...                ...        ...         ...         ...        ...  ...   \n",
       "2022-03-07  196.229996  55.590000  162.039993  133.500000  57.980000  ...   \n",
       "2022-03-08  192.080002  54.400002  170.529999  131.750000  57.840000  ...   \n",
       "2022-03-09  203.160004  55.919998  166.270004  133.649994  59.799999  ...   \n",
       "2022-03-10  200.149994  54.709999  170.820007  133.639999  60.630001  ...   \n",
       "2022-03-11  197.899994  54.689999  170.899994  131.750000  60.910000  ...   \n",
       "\n",
       "                  MRK        MSFT         NKE          PG         TRV  \\\n",
       "Date                                                                    \n",
       "2021-10-13  78.208023  295.158569  155.664383  140.802185  154.682159   \n",
       "2021-10-14  77.593857  301.573547  156.500961  142.393677  154.978882   \n",
       "2021-10-15  77.593857  303.027893  157.367416  142.759415  153.940353   \n",
       "2021-10-18  76.424950  306.095947  158.781647  140.703323  151.210510   \n",
       "2021-10-19  78.742950  307.032288  157.178207  139.042648  153.693085   \n",
       "...               ...         ...         ...         ...         ...   \n",
       "2022-03-07  77.730003  278.910004  124.440002  152.839996  168.902985   \n",
       "2022-03-08  76.949997  275.850006  121.209999  146.789993  167.569992   \n",
       "2022-03-09  77.790001  288.500000  126.949997  148.770004  171.369995   \n",
       "2022-03-10  77.889999  285.589996  126.029999  144.940002  171.889999   \n",
       "2022-03-11  78.260002  280.070007  122.629997  143.220001  173.729996   \n",
       "\n",
       "                   UNH           V         VZ        WBA         WMT  \n",
       "Date                                                                  \n",
       "2021-10-13  401.051270  221.708359  50.738689  46.340351  137.815109  \n",
       "2021-10-14  417.757172  224.419174  51.301903  49.782055  139.309082  \n",
       "2021-10-15  425.419464  230.209549  51.647739  47.968052  139.986374  \n",
       "2021-10-18  421.990814  229.870682  51.292023  47.458176  141.111832  \n",
       "2021-10-19  421.752319  232.731003  51.726784  47.075760  144.109772  \n",
       "...                ...         ...        ...        ...         ...  \n",
       "2022-03-07  485.433502  190.699997  54.680000  46.990002  141.669998  \n",
       "2022-03-08  472.063049  191.710007  53.250000  47.470001  138.740005  \n",
       "2022-03-09  484.137329  199.759995  53.080002  48.119999  139.460007  \n",
       "2022-03-10  489.990021  197.970001  53.230000  48.070000  142.630005  \n",
       "2022-03-11  482.869995  196.710007  53.040001  47.439999  142.070007  \n",
       "\n",
       "[104 rows x 30 columns]"
      ]
     },
     "execution_count": 15,
     "metadata": {},
     "output_type": "execute_result"
    }
   ],
   "source": [
    "DJIA_5month"
   ]
  },
  {
   "cell_type": "code",
   "execution_count": 10,
   "metadata": {},
   "outputs": [
    {
     "name": "stdout",
     "output_type": "stream",
     "text": [
      "          AAPL      AMGN       AXP        BA       CAT       CRM      CSCO  \\\n",
      "AAPL  0.000264  0.000079  0.000096  0.000110  0.000022  0.000174  0.000091   \n",
      "AMGN  0.000079  0.000190  0.000081  0.000043  0.000054  0.000052  0.000075   \n",
      "AXP   0.000096  0.000081  0.000452  0.000260  0.000157  0.000136  0.000072   \n",
      "BA    0.000110  0.000043  0.000260  0.000543  0.000166  0.000182  0.000064   \n",
      "CAT   0.000022  0.000054  0.000157  0.000166  0.000289  0.000034  0.000053   \n",
      "\n",
      "           CVX       DIS       DOW  ...       MRK      MSFT       NKE  \\\n",
      "AAPL  0.000013  0.000084  0.000057  ...  0.000008  0.000174  0.000092   \n",
      "AMGN  0.000016  0.000040  0.000087  ...  0.000032  0.000057  0.000010   \n",
      "AXP   0.000155  0.000151  0.000137  ...  0.000020  0.000061  0.000076   \n",
      "BA    0.000154  0.000225  0.000157  ... -0.000003  0.000038  0.000104   \n",
      "CAT   0.000139  0.000096  0.000169  ...  0.000073  0.000013  0.000045   \n",
      "\n",
      "            PG       TRV       UNH         V        VZ       WBA           WMT  \n",
      "AAPL  0.000012  0.000027  0.000094  0.000139 -0.000006  0.000069  4.211726e-05  \n",
      "AMGN  0.000036  0.000052  0.000074  0.000077  0.000038  0.000089  1.644782e-05  \n",
      "AXP   0.000007  0.000136  0.000071  0.000228  0.000039  0.000073  8.993532e-07  \n",
      "BA   -0.000012  0.000126  0.000018  0.000195  0.000049  0.000130  2.008740e-05  \n",
      "CAT   0.000012  0.000111  0.000041  0.000079  0.000036  0.000102  2.903562e-05  \n",
      "\n",
      "[5 rows x 30 columns]\n"
     ]
    }
   ],
   "source": [
    "DJIA_5_dailyr=DJIA_5month.pct_change().iloc[1:,]\n",
    "cov_dr=DJIA_5_dailyr.cov()\n",
    "print(cov_dr.head())"
   ]
  },
  {
   "cell_type": "code",
   "execution_count": 11,
   "metadata": {},
   "outputs": [
    {
     "name": "stdout",
     "output_type": "stream",
     "text": [
      "          AAPL      AMGN       AXP        BA       CAT       CRM      CSCO  \\\n",
      "AAPL  1.000000  0.350479  0.277811  0.290739  0.080423  0.446834  0.402787   \n",
      "AMGN  0.350479  1.000000  0.277989  0.133319  0.231774  0.156880  0.393497   \n",
      "AXP   0.277811  0.277989  1.000000  0.525168  0.435324  0.265667  0.245279   \n",
      "BA    0.290739  0.133319  0.525168  1.000000  0.417772  0.324762  0.197157   \n",
      "CAT   0.080423  0.231774  0.435324  0.417772  1.000000  0.084335  0.226072   \n",
      "\n",
      "           CVX       DIS       DOW  ...       MRK      MSFT       NKE  \\\n",
      "AAPL  0.059372  0.289652  0.204572  ...  0.026444  0.656487  0.351884   \n",
      "AMGN  0.084578  0.162421  0.365086  ...  0.120608  0.253948  0.047029   \n",
      "AXP   0.528729  0.398593  0.374886  ...  0.047964  0.174961  0.223626   \n",
      "BA    0.481080  0.542350  0.391525  ... -0.006403  0.100019  0.278722   \n",
      "CAT   0.591475  0.316559  0.577109  ...  0.222229  0.047919  0.164637   \n",
      "\n",
      "            PG       TRV       UNH         V        VZ       WBA       WMT  \n",
      "AAPL  0.080134  0.117451  0.430375  0.416188 -0.035336  0.254377  0.246261  \n",
      "AMGN  0.272512  0.267256  0.401864  0.272034  0.268285  0.387070  0.113380  \n",
      "AXP   0.035970  0.456234  0.247735  0.522130  0.175732  0.205655  0.004022  \n",
      "BA   -0.055802  0.385152  0.057589  0.407486  0.201348  0.335351  0.081979  \n",
      "CAT   0.072082  0.466398  0.181150  0.226806  0.202260  0.358712  0.162261  \n",
      "\n",
      "[5 rows x 30 columns]\n"
     ]
    }
   ],
   "source": [
    "cor_dr=DJIA_5_dailyr.corr()\n",
    "print(cor_dr.head())"
   ]
  },
  {
   "cell_type": "code",
   "execution_count": 12,
   "metadata": {},
   "outputs": [
    {
     "data": {
      "text/plain": [
       "AAPL    0.366870\n",
       "AMGN    0.163898\n",
       "AXP     0.517997\n",
       "BA      0.104625\n",
       "CAT     0.014269\n",
       "dtype: float64"
      ]
     },
     "execution_count": 12,
     "metadata": {},
     "output_type": "execute_result"
    }
   ],
   "source": [
    "#4.\n",
    "anu_r=DJIA_5_dailyr.mean(axis=0)*252\n",
    "ex_r=anu_r-0.01\n",
    "ex_r.head()"
   ]
  },
  {
   "cell_type": "code",
   "execution_count": 13,
   "metadata": {},
   "outputs": [
    {
     "data": {
      "text/plain": [
       "array([ 0.76610999,  0.47090523,  0.04828666, -0.07557488,  0.07919277,\n",
       "        0.01067462, -0.21253087,  2.18710552, -0.14701443, -0.04588724,\n",
       "       -0.60806552,  0.51381807, -0.24771915, -0.52016164, -0.02595986,\n",
       "       -0.09145872,  0.07067268,  0.25252727,  0.42461856, -1.55651017,\n",
       "       -0.16810882, -0.49400024, -0.2780601 ,  1.06081781, -0.35045186,\n",
       "        0.19260006, -0.23732861,  0.49258846,  0.07535145, -0.58643706])"
      ]
     },
     "execution_count": 13,
     "metadata": {},
     "output_type": "execute_result"
    }
   ],
   "source": [
    "#5. minimize the variance of portfolio under unit excess return.\n",
    "cv = cov_dr\n",
    "cvi = np.linalg.inv(cv)\n",
    "w_opt = cvi.dot(ex_r.T)/ex_r.T.dot(cvi).dot(ex_r)\n",
    "w_opt = w_opt/np.sum(w_opt)\n",
    "w_opt\n",
    "# is our optimal portfolio"
   ]
  },
  {
   "cell_type": "code",
   "execution_count": 14,
   "metadata": {},
   "outputs": [
    {
     "data": {
      "text/plain": [
       "AAPL    0.997395\n",
       "AMGN    0.803531\n",
       "AXP     1.607089\n",
       "BA      1.661320\n",
       "CAT     1.175654\n",
       "CRM     1.251801\n",
       "CSCO    0.956993\n",
       "CVX     0.895706\n",
       "DIS     1.354996\n",
       "DOW     1.346078\n",
       "GS      1.303406\n",
       "HD      0.771275\n",
       "HON     1.106148\n",
       "IBM     0.751967\n",
       "INTC    1.041381\n",
       "JNJ     0.376271\n",
       "JPM     1.139587\n",
       "KO      0.548074\n",
       "MCD     0.633910\n",
       "MMM     0.820007\n",
       "MRK     0.307767\n",
       "MSFT    0.853369\n",
       "NKE     0.783727\n",
       "PG      0.381542\n",
       "TRV     0.946100\n",
       "UNH     0.757792\n",
       "V       1.498790\n",
       "VZ      0.466913\n",
       "WBA     1.190594\n",
       "WMT     0.382070\n",
       "dtype: float64"
      ]
     },
     "execution_count": 14,
     "metadata": {},
     "output_type": "execute_result"
    }
   ],
   "source": [
    "#6. \n",
    "port_percent = dow_ticker[\"Index weighting\"].values\n",
    "w=port_percent\n",
    "cv=cov_dr\n",
    "vb = w.dot(cv).dot(w)\n",
    "ir = cv.dot(w)/vb\n",
    "ir\n",
    "# implied return, in percentage\n",
    "# much less than the historical estimate rate\n",
    "# implied return will perform better in future prediction, because its non-anticipating."
   ]
  },
  {
   "cell_type": "code",
   "execution_count": 15,
   "metadata": {},
   "outputs": [
    {
     "data": {
      "text/plain": [
       "298.9923604182891"
      ]
     },
     "execution_count": 15,
     "metadata": {},
     "output_type": "execute_result"
    }
   ],
   "source": [
    "#7.\n",
    "k_cov=np.linalg.norm(cv)*np.linalg.norm(cvi)\n",
    "k_cov\n",
    "# With large conditional number, the portfolio is ill-conditioning, and unstable"
   ]
  },
  {
   "cell_type": "code",
   "execution_count": 16,
   "metadata": {},
   "outputs": [
    {
     "name": "stdout",
     "output_type": "stream",
     "text": [
      "anualized odd day return is\n",
      " AAPL    0.141750\n",
      "AMGN    0.092970\n",
      "AXP     0.313737\n",
      "BA     -0.248838\n",
      "CAT    -0.267511\n",
      "dtype: float64\n",
      "anualized even day return is\n",
      " AAPL    0.616513\n",
      "AMGN    0.256383\n",
      "AXP     0.746378\n",
      "BA      0.485077\n",
      "CAT     0.321660\n",
      "dtype: float64\n",
      "anualized odd day vol is\n",
      " AAPL    0.253431\n",
      "AMGN    0.261329\n",
      "AXP     0.397811\n",
      "BA      0.410348\n",
      "CAT     0.287956\n",
      "dtype: float64\n",
      "anualized even day vol is\n",
      " AAPL    0.264333\n",
      "AMGN    0.167430\n",
      "AXP     0.265288\n",
      "BA      0.325581\n",
      "CAT     0.251856\n",
      "dtype: float64\n"
     ]
    }
   ],
   "source": [
    "#8.\n",
    "date1 = DJIA_5_dailyr.index\n",
    "odd = date1[0::2]\n",
    "even = date1[1::2]\n",
    "dr_odd=DJIA_5_dailyr.loc[odd]\n",
    "dr_even=DJIA_5_dailyr.loc[even]\n",
    "\n",
    "odd_mean = dr_odd.mean()\n",
    "even_mean = dr_even.mean()\n",
    "odd_vol = dr_odd.std()\n",
    "even_vol = dr_even.std()\n",
    "\n",
    "an_odd_r=odd_mean*252\n",
    "an_even_r=even_mean*252\n",
    "an_odd_vol=odd_vol*np.sqrt(252)\n",
    "an_even_vol=even_vol*np.sqrt(252)\n",
    "\n",
    "print('anualized odd day return is\\n',an_odd_r.head())\n",
    "print('anualized even day return is\\n',an_even_r.head())\n",
    "print('anualized odd day vol is\\n',an_odd_vol.head())\n",
    "print('anualized even day vol is\\n',an_even_vol.head())"
   ]
  },
  {
   "cell_type": "code",
   "execution_count": 17,
   "metadata": {},
   "outputs": [
    {
     "name": "stdout",
     "output_type": "stream",
     "text": [
      "[*********************100%***********************]  30 of 30 completed\n"
     ]
    }
   ],
   "source": [
    "#9.\n",
    "tickers_list=list(dow_ticker['Symbol'])\n",
    "DJIA_5month=tickers_5months(tickers_list,'w')"
   ]
  },
  {
   "cell_type": "code",
   "execution_count": 18,
   "metadata": {},
   "outputs": [
    {
     "name": "stdout",
     "output_type": "stream",
     "text": [
      "anualized odd week return is\n",
      " AAPL    40085.652682\n",
      "AMGN    54147.212203\n",
      "AXP     42878.475919\n",
      "BA      53155.276462\n",
      "CAT     51277.535006\n",
      "dtype: float64\n",
      "anualized even week return is\n",
      " AAPL    40629.506936\n",
      "AMGN    54663.935319\n",
      "AXP     43628.254711\n",
      "BA      53310.830084\n",
      "CAT     50994.179027\n",
      "dtype: float64\n",
      "anualized odd week vol is\n",
      " AAPL    219.037621\n",
      "AMGN    147.944958\n",
      "AXP     146.826744\n",
      "BA      130.334193\n",
      "CAT     138.613170\n",
      "dtype: float64\n",
      "anualized even week vol is\n",
      " AAPL    196.285250\n",
      "AMGN    182.900143\n",
      "AXP     182.735521\n",
      "BA      214.465898\n",
      "CAT     147.864717\n",
      "dtype: float64\n"
     ]
    }
   ],
   "source": [
    "DJIA_5_weekr = DJIA_5month.dropna(axis=0)\n",
    "\n",
    "week1 = DJIA_5_weekr.index\n",
    "odd1 = week1[0::2]\n",
    "even1 = week1[1::2]\n",
    "wr_odd=DJIA_5_weekr.loc[odd1]\n",
    "wr_even=DJIA_5_weekr.loc[even1]\n",
    "\n",
    "odd_mean_w = wr_odd.mean()\n",
    "even_mean_w = wr_even.mean()\n",
    "odd_vol_w = wr_odd.std()\n",
    "even_vol_w = wr_even.std()\n",
    "\n",
    "an_oddwk_r=odd_mean_w*52\n",
    "an_evenwk_r=even_mean_w*52\n",
    "an_oddwk_vol=odd_vol_w*np.sqrt(52)\n",
    "an_evenwk_vol=even_vol_w*np.sqrt(52)\n",
    "\n",
    "print('anualized odd week return is\\n',an_oddwk_r.head())\n",
    "print('anualized even week return is\\n',an_evenwk_r.head())\n",
    "print('anualized odd week vol is\\n',an_oddwk_vol.head())\n",
    "print('anualized even week vol is\\n',an_evenwk_vol.head())"
   ]
  },
  {
   "cell_type": "code",
   "execution_count": 19,
   "metadata": {},
   "outputs": [],
   "source": [
    "#10. start with a function for sharpe ratio\n",
    "def sharpe_r(w,f,v):\n",
    "    up=w.T @ f\n",
    "    down= ( w.T @ v @ w ) ** (1/2)\n",
    "    return up/down\n",
    "    \n",
    "# generate random normal vector with mean equal to our optimal portfolio, then test the result\n",
    "opt_sh_r=sharpe_r(w_opt,ex_r,cov_dr*252)\n",
    "\n",
    "test_set=[]\n",
    "count=0\n",
    "for i in range(1000):\n",
    "    port=w_opt+0.1*(np.random.rand(len(w_opt))-0.5)*w\n",
    "    port_nor=port/(sum(port))\n",
    "    sr=sharpe_r(port_nor,ex_r,cov_dr*252)\n",
    "    test_set.append(sr)\n",
    "    if sr>opt_sh_r:\n",
    "        count+=1"
   ]
  },
  {
   "cell_type": "code",
   "execution_count": 20,
   "metadata": {},
   "outputs": [
    {
     "data": {
      "text/plain": [
       "8.983431345963321"
      ]
     },
     "execution_count": 20,
     "metadata": {},
     "output_type": "execute_result"
    }
   ],
   "source": [
    "opt_sh_r"
   ]
  },
  {
   "cell_type": "code",
   "execution_count": 21,
   "metadata": {},
   "outputs": [
    {
     "data": {
      "text/plain": [
       "8.983412519183606"
      ]
     },
     "execution_count": 21,
     "metadata": {},
     "output_type": "execute_result"
    }
   ],
   "source": [
    "max(test_set)\n",
    "# We can see our optimal is a local maximizer of sharpe ratio. "
   ]
  },
  {
   "cell_type": "code",
   "execution_count": 22,
   "metadata": {},
   "outputs": [],
   "source": [
    "#11. optimal portfolio is a good choice for future investment regarding the historical data."
   ]
  },
  {
   "cell_type": "markdown",
   "metadata": {},
   "source": [
    "## Problem 3 (25 points):"
   ]
  },
  {
   "cell_type": "markdown",
   "metadata": {},
   "source": [
    "In the Linear Algebra Review, there was code for generating sample paths of geometric Brownian motion. (GBM). In that case, the various sample paths were independent of each other. For this problem, you are to produce (or modify) code to generate three **correlated** paths of geometric Brownian motion (labeling each). Choose *interesting* correlations (and explain *why* you chose those correlations)."
   ]
  },
  {
   "cell_type": "code",
   "execution_count": 23,
   "metadata": {},
   "outputs": [
    {
     "name": "stdout",
     "output_type": "stream",
     "text": [
      "[[ 1.          0.          0.        ]\n",
      " [ 0.5         0.8660254   0.        ]\n",
      " [ 0.         -0.57735027  0.81649658]]\n"
     ]
    }
   ],
   "source": [
    "# first one is a normal GBM\n",
    "S0 = 100\n",
    "rf = 0.05\n",
    "v = 0.25\n",
    "T = 1\n",
    "N = 250\n",
    "dt = T / N\n",
    "\n",
    "rou1=0.5\n",
    "rou2=-0.5\n",
    "# set a correlation matrix for our path, cor(x1,x2)=0.8, cor(x2,x3)=0.2,cor(x1,x3)=0\n",
    "A = np.array([[1,0.5,0],[0.5,1,-0.5],[0,-0.5,1]])\n",
    "L = np.linalg.cholesky(A)\n",
    "print(L)"
   ]
  },
  {
   "cell_type": "code",
   "execution_count": 24,
   "metadata": {},
   "outputs": [],
   "source": [
    "# the correlation between \n",
    "for j in range(10):\n",
    "    gb1 = np.zeros([N + 1, 1])\n",
    "    gb2 = np.zeros([N + 1, 1])\n",
    "    gb3 = np.zeros([N + 1, 1])\n",
    "    \n",
    "    gb1[0] = S0\n",
    "    gb2[0] = S0\n",
    "    gb3[0] = S0\n",
    "    for i in range(N):\n",
    "        [dw1,dw2,dw3]=np.sqrt(dt) * v * np.random.randn(3)\n",
    "        \n",
    "        gb1[i + 1] = gb1[i] * (1 + rf * dt + dw1)\n",
    "        gb2[i + 1] = gb2[i] * (1 + rf * dt + L[1][0]*dw1+L[1][1]*dw2)\n",
    "        gb3[i + 1] = gb3[i] * (1 + rf * dt + L[2][1]*dw2+L[2][2]*dw3)\n",
    "    #gb1 p2 p3 three independent GBM, gb1 and gb2 have cor 0.5, gb2 and gb3 have cor -0.5\n"
   ]
  },
  {
   "cell_type": "code",
   "execution_count": 25,
   "metadata": {},
   "outputs": [
    {
     "data": {
      "text/plain": [
       "<matplotlib.legend.Legend at 0x7f7e58035040>"
      ]
     },
     "execution_count": 25,
     "metadata": {},
     "output_type": "execute_result"
    },
    {
     "data": {
      "image/png": "[encoded data removed]",
      "text/plain": [
       "<Figure size 864x432 with 1 Axes>"
      ]
     },
     "metadata": {
      "needs_background": "light"
     },
     "output_type": "display_data"
    }
   ],
   "source": [
    "plt.figure(figsize = (12, 6))\n",
    "x=np.arange(0,251,1)\n",
    "plt.plot(x,gb1,label='GMB1')\n",
    "plt.plot(x,gb2,label='GMB2')\n",
    "plt.plot(x,gb3,label='GMB3')\n",
    "plt.title('Correlated Geometric Brownian Motion')\n",
    "plt.legend()"
   ]
  },
  {
   "cell_type": "markdown",
   "metadata": {},
   "source": [
    "I choose path1 has positive correlation with path2, and path3 has negative correlation with path2. We can see When path2 goes up, path1 also goes up, while path3 goes down."
   ]
  }
 ],
 "metadata": {
  "hide_input": false,
  "kernelspec": {
   "display_name": "Python 3 (ipykernel)",
   "language": "python",
   "name": "python3"
  },
  "language_info": {
   "codemirror_mode": {
    "name": "ipython",
    "version": 3
   },
   "file_extension": ".py",
   "mimetype": "text/x-python",
   "name": "python",
   "nbconvert_exporter": "python",
   "pygments_lexer": "ipython3",
   "version": "3.9.7"
  },
  "toc": {
   "base_numbering": 1,
   "nav_menu": {},
   "number_sections": true,
   "sideBar": true,
   "skip_h1_title": false,
   "title_cell": "Table of Contents",
   "title_sidebar": "Contents",
   "toc_cell": false,
   "toc_position": {},
   "toc_section_display": true,
   "toc_window_display": false
  },
  "varInspector": {
   "cols": {
    "lenName": 16,
    "lenType": 16,
    "lenVar": 40
   },
   "kernels_config": {
    "python": {
     "delete_cmd_postfix": "",
     "delete_cmd_prefix": "del ",
     "library": "var_list.py",
     "varRefreshCmd": "print(var_dic_list())"
    },
    "r": {
     "delete_cmd_postfix": ") ",
     "delete_cmd_prefix": "rm(",
     "library": "var_list.r",
     "varRefreshCmd": "cat(var_dic_list()) "
    }
   },
   "types_to_exclude": [
    "module",
    "function",
    "builtin_function_or_method",
    "instance",
    "_Feature"
   ],
   "window_display": false
  }
 },
 "nbformat": 4,
 "nbformat_minor": 1
}
