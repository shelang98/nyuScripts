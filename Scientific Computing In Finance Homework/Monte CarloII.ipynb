{
 "cells": [
  {
   "cell_type": "code",
   "execution_count": 3,
   "metadata": {},
   "outputs": [
    {
     "name": "stdout",
     "output_type": "stream",
     "text": [
      "Populating the interactive namespace from numpy and matplotlib\n"
     ]
    }
   ],
   "source": [
    "%pylab inline\n",
    "import numpy as np\n",
    "import random"
   ]
  },
  {
   "cell_type": "markdown",
   "metadata": {},
   "source": [
    "We assume a constant volatility in a geometric Brownian motion setting"
   ]
  },
  {
   "cell_type": "markdown",
   "metadata": {},
   "source": [
    "## Problem 1: American ?Digital Call (50 points)\n",
    "\n",
    "To really understand how LSMC works, you need to implement it yourself. An implementation is given in the lecture, but to have a working knowledge of how it works, you'll need to rewrite your own code based on the code provided.\n",
    "\n",
    "Refactor the code in the lecture in a class called Lsmc and which takes the payoff/intrinsic of the option as a lambda function upon initialization. Rename the variables of the code in a more meaningful way.\n",
    "\n",
    "Then price an American digital call option (i.e. payoff is $1\\{S_T \\geq K\\})$) using LSMC, assuming:\n",
    "* option strike: $K = 100$\n",
    "* continuously compounded discount rate $r = 0.02$\n",
    "* continuous dividend yield is $y = 0.1$\n",
    "* stock volatility $\\sigma = 0.25$\n",
    "* option expiry: $T = 1Y$\n",
    "\n",
    "You need to produce the following outputs:\n",
    "1. European and American option prices and their ratios for spot values between 50 and 150.\n",
    "2. Exercise boundary of the american digital call."
   ]
  },
  {
   "cell_type": "code",
   "execution_count": 9,
   "metadata": {},
   "outputs": [],
   "source": [
    "class GBM(object):\n",
    "\n",
    "    def __init__(self, r, y, vol):\n",
    "        self.r = r\n",
    "        self.y = y\n",
    "        self.vol = vol\n",
    "\n",
    "    def draw(self, sims, x0, dt):\n",
    "        \"\"\"sims is assumed to have a dimension of [npath, nd]\"\"\"\n",
    "        xs = []\n",
    "        x = np.ones(len(sims)) * np.log(x0)\n",
    "        for sim in sims.T:\n",
    "            x = x + (self.r -self.y - 0.5 * self.vol * self.vol) * dt + self.vol * sim * np.sqrt(dt)\n",
    "            xs.append(x)\n",
    "        else:\n",
    "            return np.exp(np.array(xs).T)"
   ]
  },
  {
   "cell_type": "code",
   "execution_count": 4,
   "metadata": {},
   "outputs": [],
   "source": [
    "K=100\n",
    "payoff_func_d = lambda x: np.greater(x,K)"
   ]
  },
  {
   "cell_type": "code",
   "execution_count": 11,
   "metadata": {},
   "outputs": [],
   "source": [
    "# European call pricing\n",
    "def mc_eurocall(spath, r, T ,payoff_func):\n",
    "    ev = payoff_func(spath[:,-1]) \n",
    "    discount = np.exp((-r)*T)\n",
    "    cv = discount*ev \n",
    "    return mean(cv)"
   ]
  },
  {
   "cell_type": "code",
   "execution_count": 12,
   "metadata": {},
   "outputs": [],
   "source": [
    "# American call pricing \n",
    "def fit_u(s, cv, ev):\n",
    "    \"\"\"\n",
    "    cv = y\n",
    "    only consider s with ev >0\n",
    "    s form 1,s,s^2 matrix xs = A\n",
    "    \"\"\"\n",
    "    itm_idx = np.greater(ev, 0)\n",
    "    xs = np.array([np.ones(len(s)), s, s * s])\n",
    "    a = xs.T[itm_idx, :]\n",
    "    cs = np.linalg.pinv(a.T @ a) @ (a.T) @ (cv[itm_idx])\n",
    "    return lambda x: cs @ (np.array([np.ones(len(x)), x, x * x]))\n",
    "\n",
    "\n",
    "def fit_ex(s, cv, ev):\n",
    "    # judge if exercise by compare cv and ev\n",
    "    u = fit_u(s, cv, ev)\n",
    "    return np.greater(ev, np.maximum(0, u(s)))\n",
    "\n",
    "\n",
    "def opt_ex(s, cv, ev):\n",
    "    idx = np.greater(ev, 0)\n",
    "    evs, cvs = list(zip(*sorted((zip(ev[idx], cv[idx])), reverse=True)))\n",
    "    cumev = np.cumsum(evs)[:-1]\n",
    "    cumcvs = np.cumsum(cvs[::-1])[-2::-1]\n",
    "    total = cumev + cumcvs\n",
    "    oidx = np.argmax(total)\n",
    "    return np.greater(ev, evs[oidx])\n",
    "\n",
    "\n",
    "def exer_b(ev, exer):\n",
    "    exed = ev[exer]\n",
    "    if exed.size > 0:\n",
    "        bidx = np.argmin(exed)\n",
    "        return exed[bidx]\n",
    "    return np.nan\n",
    "\n",
    "def amer_opt(spath, disc1p, ex_f,payoff_func ):\n",
    "    cvs = []\n",
    "    cv = payoff_func(spath[:, -1])\n",
    "    cvs.append(cv)\n",
    "    \n",
    "    exerb = [exer_b(cv, np.greater(cv, 0))]\n",
    "    for s in spath.T[-2::-1]:\n",
    "        ev = payoff_func(s)\n",
    "        exer = ex_f(s, cv, ev)\n",
    "        cv = exer * ev + (1 - exer) * cv * disc1p\n",
    "        exerb.append(exer_b(ev, exer))\n",
    "        cvs.append(cv)\n",
    "    else:\n",
    "        return mean(cv), np.array(exerb[::-1])"
   ]
  },
  {
   "cell_type": "code",
   "execution_count": 20,
   "metadata": {},
   "outputs": [],
   "source": [
    "# Initialization\n",
    "T, m, r, vol, y = 1., 52, .02, .25, 0\n",
    "npath = 10000\n",
    "dt = T/m\n",
    "\n",
    "random.seed(23)\n",
    "rand_sam = np.random.normal(size=[npath, m]) \n",
    "\n",
    "s0_list = np.arange(50,151)  "
   ]
  },
  {
   "cell_type": "code",
   "execution_count": 21,
   "metadata": {},
   "outputs": [],
   "source": [
    "gbm = GBM(r,y,vol)"
   ]
  },
  {
   "cell_type": "code",
   "execution_count": 22,
   "metadata": {},
   "outputs": [],
   "source": [
    "spath = gbm.draw(rand_sam, 100, dt)"
   ]
  },
  {
   "cell_type": "code",
   "execution_count": 8,
   "metadata": {},
   "outputs": [],
   "source": [
    "\n",
    "Euro = []\n",
    "Ame = []\n",
    "ratios = []\n",
    "ex_bd = []\n",
    "for s0 in s0_list:\n",
    "    spath = gbm.draw(rand_sam, s0, dt)\n",
    "    \n",
    "    euro = mc_eurocall(spath,r,T,payoff_func_d )\n",
    "    Euro.append(euro)\n",
    "    \n",
    "    ame = amer_opt(spath, np.exp((-r)*dt), fit_ex,payoff_func_d)\n",
    "    Ame.append(ame[0])\n",
    "    \n",
    "    ratio = euro / ame[0]\n",
    "    ratios.append(ratio)\n",
    "    \n",
    "    ex_bd.append(ame[1])"
   ]
  },
  {
   "cell_type": "code",
   "execution_count": 9,
   "metadata": {},
   "outputs": [
    {
     "data": {
      "image/png": "[encoded data removed]",
      "text/plain": [
       "<Figure size 432x288 with 1 Axes>"
      ]
     },
     "metadata": {
      "needs_background": "light"
     },
     "output_type": "display_data"
    }
   ],
   "source": [
    "plt.plot(s0_list, np.array(Euro), label = \"European call option price\")\n",
    "plt.plot(s0_list, np.array(Ame), label = \"American call option price\")\n",
    "plt.plot(s0_list, np.array(ratios), label = \"price ratio\")\n",
    "plt.legend()\n",
    "plt.xlabel(\"Strike price\")\n",
    "plt.ylabel(\"Option\")\n",
    "plt.show()"
   ]
  },
  {
   "cell_type": "code",
   "execution_count": 10,
   "metadata": {},
   "outputs": [
    {
     "data": {
      "image/png": "[encoded data removed]",
      "text/plain": [
       "<Figure size 432x288 with 1 Axes>"
      ]
     },
     "metadata": {
      "needs_background": "light"
     },
     "output_type": "display_data"
    }
   ],
   "source": [
    "ts = np.linspace(0,T,m)\n",
    "bdd = 100*np.ones(len(ts))\n",
    "for i in range(len(ex_bd)):\n",
    "     plt.plot(ts, bdd)\n",
    "plt.xlabel(\"t\")\n",
    "plt.title(\"exercise boundaries\")\n",
    "plt.show()"
   ]
  },
  {
   "cell_type": "markdown",
   "metadata": {},
   "source": [
    "For American option, will exercise it when Stock Price go over 100, so the exercise boundary here will always be 100."
   ]
  },
  {
   "cell_type": "markdown",
   "metadata": {},
   "source": [
    "## Problem 2: Call option with and without dividends (50 points)\n",
    "\n",
    "Consider a dividend paying either:\n",
    "* continuously with $q = 0.06$\n",
    "* or a discrete dividend, paid once at time $t_d = 0.5$ and paying $D=6$, which means that $S_{t_d^+} = S_{t_d} - D$.\n",
    "\n",
    "In the second case, we floor the stock at 0.05.\n",
    "\n",
    "We want to price an American call option  using LSMC, assuming:\n",
    "* option strike: $K = 100$\n",
    "* continuously compounded discount rate $r = 0.02$\n",
    "* stock volatility $\\sigma = 0.25$\n",
    "* option expiry: $T = 1Y$\n",
    "\n",
    "You need to produce the following outputs:\n",
    "1. Plot the difference between American and European price as the dividend increases:<p>\n",
    "    a. $q$ ranging from 0.01 to 0.1.<p>\n",
    "    b. $D$ ranging from 1 to 10.<p>\n",
    "\n"
   ]
  },
  {
   "cell_type": "code",
   "execution_count": 11,
   "metadata": {},
   "outputs": [],
   "source": [
    "# parameters for stock price simulation\n",
    "s0 = 100\n",
    "K = 100\n",
    "r = 0.02\n",
    "q_ = np.linspace(0.01, 0.1, 10)\n",
    "D_ = np.linspace(1, 10, 10)\n",
    "vol = 0.25\n",
    "T = 1\n",
    "\n",
    "npath = 1000\n",
    "m = 52\n",
    "dt = T/m\n",
    "\n",
    "payoff_func1 = lambda x: np.maximum(x-K, 0)\n",
    "discount = np.exp(-r*dt)\n",
    "\n",
    "random.seed(23)\n",
    "rand_sam = np.random.normal(size=[npath, m]) \n"
   ]
  },
  {
   "cell_type": "code",
   "execution_count": 12,
   "metadata": {},
   "outputs": [],
   "source": [
    "\n",
    "EE = []\n",
    "AA = []\n",
    "diff_ = []\n",
    "\n",
    "for q in q_:\n",
    "    \n",
    "    gbm1 = GBM(r, q, vol) \n",
    "    spath = gbm1.draw(rand_sam, s0, dt) \n",
    "    \n",
    "    ee = mc_eurocall(spath, r, T, payoff_func1)\n",
    "    EE.append(ee)\n",
    "    \n",
    "    aa = amer_opt(spath, np.exp((-r)*dt), fit_ex,payoff_func1)[0]\n",
    "    AA.append(aa)\n",
    "    \n",
    "    diff = aa - ee\n",
    "    diff_.append(diff)\n",
    "    "
   ]
  },
  {
   "cell_type": "code",
   "execution_count": 13,
   "metadata": {},
   "outputs": [],
   "source": [
    "\n",
    "EEE = []\n",
    "AAA = []\n",
    "difff_ = []\n",
    "\n",
    "y = 0\n",
    "gbm11 = GBM(r, y, vol) \n",
    "for D in D_:\n",
    "    mid = int(m/2)\n",
    "    fir = rand_sam[:, :mid]\n",
    "    sec = rand_sam[:, mid:]\n",
    "    spath_fir = gbm.draw(fir, s0, dt) \n",
    "    spath_sec = gbm.draw(sec, np.maximum(0.05, spath_fir[:,-1]-D), dt)\n",
    "    spath = np.hstack([spath_fir, spath_sec])\n",
    "    \n",
    "    ee = mc_eurocall(spath, r, T, payoff_func1)\n",
    "    EEE.append(ee)\n",
    "\n",
    "    aa = amer_opt(spath, np.exp((-r)*dt), fit_ex,payoff_func1)[0]\n",
    "    AAA.append(aa)\n",
    "\n",
    "    diff = aa-ee\n",
    "    difff_.append(diff)"
   ]
  },
  {
   "cell_type": "code",
   "execution_count": 14,
   "metadata": {},
   "outputs": [
    {
     "data": {
      "image/png": "[encoded data removed]",
      "text/plain": [
       "<Figure size 432x288 with 1 Axes>"
      ]
     },
     "metadata": {
      "needs_background": "light"
     },
     "output_type": "display_data"
    },
    {
     "data": {
      "image/png": "[encoded data removed]",
      "text/plain": [
       "<Figure size 432x288 with 1 Axes>"
      ]
     },
     "metadata": {
      "needs_background": "light"
     },
     "output_type": "display_data"
    }
   ],
   "source": [
    "plt.plot(q_, diff_,  label = \"continuous\")\n",
    "plt.legend()\n",
    "plt.xlabel(\"continuous dividend\")\n",
    "plt.ylabel(\"Price difference\")\n",
    "plt.show()\n",
    "\n",
    "plt.plot(D_, difff_,  label = \"discrete\")\n",
    "plt.legend()\n",
    "plt.xlabel(\"one time payment dividend\")\n",
    "plt.ylabel(\"Price difference\")\n",
    "plt.show()"
   ]
  },
  {
   "cell_type": "markdown",
   "metadata": {},
   "source": [
    "2. We consider the case of continuous dividend and want to compute using LSMC the quantity:\n",
    "$$ p = q \\int_0^T E\\left[\\left(S_t - \\frac{rK}{q} \\right)^+ 1_{\\{v(t,S_t) = H(S_t) \\}} \\right] dt $$\n",
    "\n",
    "Compare the quantity $p$ to the early exercise premium (i.e. the price between the American and the European) for:<p>\n",
    "    a. $q$ ranging from 0.01 to 0.1<p>\n",
    "    b. $\\sigma$ ranging from 0.1 to 0.3"
   ]
  },
  {
   "cell_type": "code",
   "execution_count": 15,
   "metadata": {},
   "outputs": [],
   "source": [
    "# a\n",
    "s0,K,r,vol,T = 100,100,0.02,0.25,1\n",
    "q_ = np.linspace(0.01, 0.1, 10)\n",
    "\n",
    "npath = 1000\n",
    "m = 52\n",
    "dt = T/m\n",
    "\n",
    "discount = np.exp(-r*dt)\n",
    "random.seed(23)\n",
    "rand_sam = np.random.normal(size=[npath, m]) \n",
    "\n",
    "EEEE = []\n",
    "AAAA = []\n",
    "diffff_ = []\n",
    "p_ = []\n",
    "\n",
    "for q in q_:\n",
    "    \n",
    "    gbm = GBM(r, q, vol) # GBM simulation initialization with dividend\n",
    "    spath = gbm.draw(rand_sam, s0, dt) \n",
    "    \n",
    "    # European\n",
    "    ee = mc_eurocall(spath,  r, T,payoff_func1)\n",
    "    EEEE.append(ee)\n",
    "    \n",
    "    # American\n",
    "    aa = amer_opt(spath, np.exp((-r)*dt), fit_ex,payoff_func1)\n",
    "    AAAA.append(aa[0])\n",
    "    \n",
    "    # Early exercise premium\n",
    "    diff = aa[0] - ee\n",
    "    diffff_.append(diff)\n",
    "    \n",
    "    # p\n",
    "    res = np.zeros(52)\n",
    "    for price in spath:\n",
    "        for i in range(52):\n",
    "            listt = np.ones(52)\n",
    "            if np.isnan(aa[1][i]):\n",
    "                listt[i] = 0\n",
    "            if price[i] < aa[1][i] + K:\n",
    "                listt[i] = 0\n",
    "        #exer = np.array([0 if np.isnan(aa[1][i]) else 1 for i in range(52)])\n",
    "        res = res + np.maximum( price - r * K/q, 0) * listt /(52000)\n",
    "    p = sum(res) * dt\n",
    "    p_.append(p)"
   ]
  },
  {
   "cell_type": "code",
   "execution_count": 16,
   "metadata": {},
   "outputs": [
    {
     "data": {
      "image/png": "[encoded data removed]",
      "text/plain": [
       "<Figure size 432x288 with 1 Axes>"
      ]
     },
     "metadata": {
      "needs_background": "light"
     },
     "output_type": "display_data"
    }
   ],
   "source": [
    "plt.plot(q_, p_, label = \"p\")\n",
    "plt.plot(q_, diffff_, label = \"early exercise premium\")\n",
    "plt.legend()\n",
    "plt.xlabel(\"dividend yield\")\n",
    "plt.title('different yield')\n",
    "plt.show()"
   ]
  },
  {
   "cell_type": "code",
   "execution_count": 17,
   "metadata": {},
   "outputs": [],
   "source": [
    "# b\n",
    "\n",
    "y = 0.06\n",
    "vol_ = np.linspace(0.1, 0.3, 10)\n",
    "s0,K,r,T = 100,100,0.02,1\n",
    "\n",
    "npath = 1000\n",
    "m = 52\n",
    "dt = T/m\n",
    "\n",
    "discount = np.exp(-r*dt)\n",
    "random.seed(23)\n",
    "rand_sam = np.random.normal(size=[npath, m]) \n",
    "\n",
    "\n",
    "EEEEE = []\n",
    "AAAAA = []\n",
    "difffff_ = []\n",
    "p_ = []\n",
    "\n",
    "for q in q_:\n",
    "    \n",
    "    gbm = GBM(r, q, vol) # GBM simulation initialization with dividend\n",
    "    spath = gbm.draw(rand_sam, s0, dt) \n",
    "    \n",
    "    # European\n",
    "    ee = mc_eurocall(spath,  r, T,payoff_func1)\n",
    "    EEEEE.append(ee)\n",
    "    \n",
    "    # American\n",
    "    aa = amer_opt(spath, np.exp((-r)*dt), fit_ex,payoff_func1)\n",
    "    AAAAA.append(aa[0])\n",
    "    \n",
    "    # Early exercise premium\n",
    "    diff = aa[0] - ee\n",
    "    difffff_.append(diff)\n",
    "    \n",
    "    # p\n",
    "    res = np.zeros(52)\n",
    "    for price in spath:\n",
    "        for i in range(52):\n",
    "            listt = np.ones(52)\n",
    "            if np.isnan(aa[1][i]):\n",
    "                listt[i] = 0\n",
    "            if price[i] < aa[1][i] + K:\n",
    "                listt[i] = 0\n",
    "        #exer = np.array([0 if np.isnan(aa[1][i]) else 1 for i in range(52)])\n",
    "        res = res + np.maximum( price - r * K/q, 0) * listt /(52000)\n",
    "    p = sum(res) * dt\n",
    "    p_.append(p)"
   ]
  },
  {
   "cell_type": "code",
   "execution_count": 18,
   "metadata": {},
   "outputs": [
    {
     "data": {
      "image/png": "[encoded data removed]",
      "text/plain": [
       "<Figure size 432x288 with 1 Axes>"
      ]
     },
     "metadata": {
      "needs_background": "light"
     },
     "output_type": "display_data"
    }
   ],
   "source": [
    "plt.plot(vol_, p_, label = \"p\")\n",
    "plt.plot(vol_, diffff_, label = \"early exercise premium\")\n",
    "plt.legend()\n",
    "plt.title('different volatility')\n",
    "plt.xlabel(\"dividend yield\")\n",
    "plt.show()"
   ]
  },
  {
   "cell_type": "code",
   "execution_count": null,
   "metadata": {},
   "outputs": [],
   "source": []
  }
 ],
 "metadata": {
  "kernelspec": {
   "display_name": "Python 3 (ipykernel)",
   "language": "python",
   "name": "python3"
  },
  "language_info": {
   "codemirror_mode": {
    "name": "ipython",
    "version": 3
   },
   "file_extension": ".py",
   "mimetype": "text/x-python",
   "name": "python",
   "nbconvert_exporter": "python",
   "pygments_lexer": "ipython3",
   "version": "3.9.15"
  }
 },
 "nbformat": 4,
 "nbformat_minor": 1
}
