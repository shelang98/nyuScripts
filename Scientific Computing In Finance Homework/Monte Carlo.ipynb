{
 "cells": [
  {
   "cell_type": "markdown",
   "metadata": {},
   "source": [
    "# Homework Set 5\n"
   ]
  },
  {
   "cell_type": "code",
   "execution_count": 163,
   "metadata": {},
   "outputs": [],
   "source": [
    "%matplotlib inline\n",
    "import matplotlib.pyplot as plt\n",
    "import pandas as pd\n",
    "import numpy as np\n",
    "import time\n",
    "import yfinance as yf\n",
    "import datetime \n",
    "import pandas_datareader as pdr\n",
    "from scipy.stats import chi\n",
    "seed=2"
   ]
  },
  {
   "cell_type": "markdown",
   "metadata": {},
   "source": [
    "**Run this cell to display math properly!**\n",
    "$\\renewcommand{bs}{\\mathbf}$"
   ]
  },
  {
   "cell_type": "markdown",
   "metadata": {},
   "source": [
    "**Unless explicitly forbidden, you can use any standard python function from `numpy`/`scipy`/`pandas`/`matplotlib` or the lectures to solve homework problems. DO NOT use other packages like `Quantlib`/`Quandl`/`portfoliolab`/`etc`.**"
   ]
  },
  {
   "cell_type": "markdown",
   "metadata": {},
   "source": [
    "## Problem 1 (50 points)\n",
    "\n",
    "A basket (put or call) option is an option on a basket of securities, commodities, or currencies (it is similar to an option on index).\n",
    "\n",
    "Who uses basket options?\n",
    "* Multinational corporations that want to hedge against a number of FX risks.\n",
    "* Investors who wish to have a broad exposure to (or hedge) particular portfolios, industry sectors, or countries.\n",
    "\n",
    "Index options are an alternative to basket options, but if the index does not match the desired portfolio there will be significant tracking error risk that can cost more than the additional cost of the basket option. Another alternative is a collection of individual stock options, but this may be more expensive due to transaction costs and because the implied volatility of each option includes a large component of specific stock risk which may be diversified in a basket.\n",
    "\n",
    "The discounted payoff function is given by:\n",
    "\n",
    "$$\n",
    "V_{\\text{basket}} =\n",
    "e^{-rT} \\left( \\sum_i^m x_i S_i(T) - K \\right)^+\n",
    "$$\n",
    "\n",
    "where $S_i(t)$ is the asset value at time $t$ of asset $i$, $m$ is the number of assets in the basket, $x_i$, is the weight of asset $i$ in the basket (which does not change over time), $K$ is the strike price, $r$ is the risk-free rate, and $T$ is the time to maturity.\n",
    "\n",
    "You have a client that wants to protect their portfolio of tech stocks for the next year by purchasing an at-the-money basket put option on the five stocks in the portfolio (IBM, NFLX, MSFT, FB, and AAPL), where the stocks are equally-weighted. Using Monte-Carlo, compute the price (along with the estimated error) of the basket option for your client. (You may assume that the risk-free rate is 2% and you can use the last year of daily prices to compute the correlation matrix). **NB**: Obviously you need to provide your code."
   ]
  },
  {
   "cell_type": "markdown",
   "metadata": {},
   "source": [
    "Buy a put basket option to sell the portfolio at an strike price when their value is low."
   ]
  },
  {
   "cell_type": "code",
   "execution_count": 25,
   "metadata": {},
   "outputs": [],
   "source": [
    "tickers = ['IBM', 'NFLX', 'MSFT', 'FB', 'AAPL']\n",
    "df = pdr.DataReader(tickers, data_source='yahoo', start='2021-03-11', end='2022-03-11')['Adj Close']"
   ]
  },
  {
   "cell_type": "code",
   "execution_count": 236,
   "metadata": {},
   "outputs": [],
   "source": [
    "df_lr = np.log(1 + df.pct_change())\n",
    "std_5 = df_lr.std()\n",
    "cov_5 = df_lr.cov()\n",
    "# to obtain the same correlation\n",
    "L_5 = np.linalg.cholesky(cov_5)"
   ]
  },
  {
   "cell_type": "code",
   "execution_count": 237,
   "metadata": {},
   "outputs": [],
   "source": [
    "def mc_basket(N,M):\n",
    "    '''\n",
    "    Inputs:\n",
    "        N: the number of iterations to run\n",
    "        M: the number of time-steps\n",
    "    '''\n",
    "    np.random.seed(seed) \n",
    "    dt = 1 / M\n",
    "    rdm = np.random.standard_normal((5, M + 1, N))\n",
    "    C0=[]\n",
    "    S_ = np.zeros([5,N])\n",
    "\n",
    "    for i in range(5):\n",
    "        sum_sig = sum([L_5[i,k]*np.sqrt(dt)*rdm[k] for k in range(5)])\n",
    "        # Simulating N paths with M time steps\n",
    "        S =  df.iloc[-1][i]* np.exp(np.cumsum((0.02 - 0.5 * std_5[i] ** 2) * dt + sum_sig, axis=0))\n",
    "        # form the price matrix form calculation\n",
    "        S_[i]=S[-1]\n",
    "        \n",
    "    Strk = np.mean(df.iloc[-1])\n",
    "    C = np.maximum(np.mean(S_,axis=0)-Strk,0)\n",
    "    C0 = np.exp(-0.02 * 1) * sum(C)/N\n",
    "    var = np.sqrt(np.var(C)/N)\n",
    "    return C0,var"
   ]
  },
  {
   "cell_type": "code",
   "execution_count": 238,
   "metadata": {},
   "outputs": [
    {
     "name": "stdout",
     "output_type": "stream",
     "text": [
      "the estimate price for the at-the-money option is 4.420598849813196\n",
      "the error for the approximation is 0.09683657703165441\n"
     ]
    }
   ],
   "source": [
    "print(f'the estimate price for the at-the-money option is', mc_basket(1000,1000)[0])\n",
    "print(f'the error for the approximation is', mc_basket(1000,1000)[1])"
   ]
  },
  {
   "cell_type": "markdown",
   "metadata": {},
   "source": [
    "## Problem 2 (50 points)\n",
    "\n",
    "The square root diffusion process was first proposed by [Cox, Ingersoll, and Ross (1985)](https://www.sciencedirect.com/science/article/abs/pii/0304405X94900167) to model interest rates and has been quite popular for other uses. For example, it was applied by [Heston (2015)](https://academic.oup.com/rfs/article-abstract/6/2/327/1574747?redirectedFrom=fulltext&login=false) to model stochastic volatility in option pricing. The model is given by the following stochastic differential equation:\n",
    "\n",
    "$$\n",
    "d x_t = \\kappa ( \\theta - x_t ) dt + \\sigma \\sqrt{x_t} dZ_t\n",
    "$$\n",
    "\n",
    "where $x_t$ is the process level at time $t$, $\\kappa$ is the mean-reversion factor, $\\theta$ is the long term mean of the process, $\\sigma$ is the constant volatility, and $Z$ is standard Brownian motion.\n",
    "\n",
    "While it is well known that the values of $x_t$ are distributed chi-squared, it is often discretized and approximated using a normal distribution. This is what is known as the Euler discretization scheme (this is the general technique used in the course so far). The CIR process can be discretized (using the Euler scheme) as:  \n",
    "\n",
    "$$\n",
    "x_t = x_{t-1} + \\kappa ( \\theta - x_{t-1} ) \\delta t + \\sigma \\sqrt{x_{t-1} \\delta t} z_t\n",
    "$$\n",
    "\n",
    "In this case, the use of a normal distribution creates a slight problem. While the square-root diffusion requires that the values of $x_t$ be strictly positive, the use of the normal distribution produces both positive **and** negative values. In the simulation, this can be \"fixed\" two ways:\n",
    "1. *Truncation method*: where we use $x^+ = \\max(x,0)$:\n",
    "\n",
    "$$\n",
    "x_t = x_{t-1} + \\kappa ( \\theta - x_{t-1}^+ ) \\delta t + \\sigma \\sqrt{x_{t-1}^+ \\delta t} z_t\n",
    "$$\n",
    "\n",
    "2. *Reflection method*: where we use a positive value \"as is\" and \"reflect\" a negative value by changing the sign (alternatively, one could take an absolute value):\n",
    "\n",
    "$$\n",
    "x_t = \\begin{cases}\n",
    "x_{t-1} + \\kappa ( \\theta - x_{t-1} ) \\delta t + \\sigma \\sqrt{x_{t-1} \\delta t} z_t & \\text{  if $>0$}\\\\\n",
    "x_{t-1} + \\kappa ( \\theta - x_{t-1} ) \\delta t - \\sigma \\sqrt{x_{t-1} \\delta t} z_t & \\text{  if $<0$}\n",
    "\\end{cases}\n",
    "$$\n",
    "\n",
    "There is a third method, the **exact** discretization scheme, based on the noncentral chi-squared distribution $\\chi_d^2$, which can be written:\n",
    "\n",
    "$$\n",
    "x_t = \\frac{\\sigma^2 (1-e^{-\\kappa \\delta t})}{4 \\kappa} \n",
    "\\chi_d^2 \\bigg( \\frac{4 \\kappa e^{-\\kappa \\delta t}}{\\sigma^2(1-e^ {-\\kappa \\delta t})}x_{t-1} \\bigg)\n",
    "$$\n",
    "\n",
    "where the noncentral parameter is in the parenthesis for the $\\chi^2$ distribution, and the degrees of freedom are given by:\n",
    "\n",
    "$$\n",
    "d = \\frac{4 \\theta \\kappa}{\\sigma^2}\n",
    "$$\n",
    "\n",
    "(a) Develop the `python` code for each of these three methods and test the pricing using the parameters $T=1$, $x_0 = 0.1$, $\\kappa = 0.5$, $\\theta = 0.1$, and $\\sigma = 0.8$ (reporting the errors with each). You want to make sure that you are comparing apples-to-apples: same seed (=2), same parameters, same number of time periods, and same number of paths.\n",
    "(b) Plot the time series of the truncated value against the reflecting value. Do you have any observations?\n",
    "(c) Compute the cost of running each of the methods and compare. Which is better and why?"
   ]
  },
  {
   "cell_type": "code",
   "execution_count": 196,
   "metadata": {},
   "outputs": [],
   "source": [
    "#a\n",
    "def generate_z(n_paths, dt, t_maturity, seed=2):\n",
    "    np.random.seed(seed)\n",
    "    n_time_steps = int(t_maturity/dt + 1e-6)\n",
    "    z1 = np.random.normal(size=n_paths*n_time_steps) # get the right number of rv's\n",
    "    z1 = (z1 - z1.mean())/z1.std() # normalize so they are N(0,1)\n",
    "    z_matrix = z1.reshape(n_paths,n_time_steps) # reshape to proper dimension\n",
    "    \n",
    "    return z_matrix\n",
    "\n",
    "def diffusion_proc(x0, kp, th, sig, mtd, dt, z,seed=2):\n",
    "    x_s = []\n",
    "    x = np.ones(len(z)) * x0\n",
    "    x_s.append(x)   \n",
    "    if mtd==1:\n",
    "        for i in range(z.shape[1]):\n",
    "            xp = np.maximum(x, 0)\n",
    "            x = x + kp * (th - xp) * dt + sig * np.sqrt(xp * dt)*z[:,i] \n",
    "            x_s.append(x)\n",
    "            \n",
    "    if mtd==2:\n",
    "        for i in range(z.shape[1]):\n",
    "            kk = x + kp * (th - x) * dt + sig * np.sqrt(x * dt) *z[:,i]\n",
    "            bb = x + kp * (th - x) * dt - sig * np.sqrt(x * dt) *z[:,i]\n",
    "            x = np.array([kk[i] if kk[i] > 0 else bb[i] for i in range(len(kk))])\n",
    "            x_s.append(x)\n",
    "            \n",
    "    if mtd==3:\n",
    "        for i in range(z.shape[1]):\n",
    "            ins = (4 * kp * np.exp(-kp*dt)) / (sig**2 * (1 - np.exp(-kp*dt)))*x\n",
    "            df = (4 * th * kp) / sig**2\n",
    "            chi_ = chi.rvs(df=df, loc=ins, random_state=seed)\n",
    "            x = (sig**2 * (1-np.exp(-kp*dt))) / (4 * kp) * chi_\n",
    "            x_s.append(x)    \n",
    "        \n",
    "    return np.array(x_s).T\n",
    "\n",
    "def outcome(xx,n):\n",
    "    x = xx[:,-1]\n",
    "    return np.mean(x), np.sqrt(np.var(x)/n), xx[-1]"
   ]
  },
  {
   "cell_type": "code",
   "execution_count": 195,
   "metadata": {},
   "outputs": [
    {
     "data": {
      "text/plain": [
       "array([[ 0.1       ,  0.09277418,  0.11540972, -0.04864457, -0.04364457,\n",
       "        -0.03864457, -0.03364457, -0.02864457, -0.02364457, -0.01864457,\n",
       "        -0.01364457],\n",
       "       [ 0.1       ,  0.17429193,  0.46214699,  0.51145638,  0.34103389,\n",
       "         0.46425056,  0.39792389,  0.4353954 ,  0.68318926,  0.56227641,\n",
       "         0.60703359],\n",
       "       [ 0.1       ,  0.05393122,  0.06702408,  0.10916856,  0.05084009,\n",
       "         0.05282458,  0.0609814 ,  0.04276617, -0.00154036,  0.00345964,\n",
       "         0.0110654 ]])"
      ]
     },
     "execution_count": 195,
     "metadata": {},
     "output_type": "execute_result"
    }
   ],
   "source": [
    "p=generate_z(3,0.1,1,2)\n",
    "diffusion_proc(0.1,0.5,0.1,0.8,1,0.1,p)"
   ]
  },
  {
   "cell_type": "code",
   "execution_count": 201,
   "metadata": {},
   "outputs": [],
   "source": [
    "#b\n",
    "\n",
    "T, x0, kappa, theta, sigma, n_paths = 1, 0.1, 0.5, 0.1, 0.8, 1000\n",
    "n_time_steps = 100\n",
    "dt = T / n_time_steps\n",
    "z = generate_z(n_paths, dt, T, seed=2)\n",
    "\n",
    "# Truncation method\n",
    "ts = time.time()\n",
    "xx1 = diffusion_proc(x0, kappa, theta, sigma, 1, dt, z ,seed=2)\n",
    "x1, error1, sample1 = outcome(xx1, n_paths)\n",
    "t1 = time.time() - ts\n",
    "\n",
    "# Reflection method\n",
    "ts = time.time()\n",
    "xx2 = diffusion_proc(x0, kappa, theta, sigma, 2, dt, z ,seed=2)\n",
    "x2, error2, sample2 = outcome(xx2, n_paths)\n",
    "t2 = time.time() - ts\n",
    "\n",
    "# Exact method\n",
    "ts = time.time()\n",
    "xx3 = diffusion_proc(x0, kappa, theta, sigma, 3, dt, z ,seed=2)\n",
    "x3, error3, sample3 = outcome(xx3, n_paths)\n",
    "t3 = time.time() - ts\n"
   ]
  },
  {
   "cell_type": "code",
   "execution_count": 202,
   "metadata": {},
   "outputs": [
    {
     "data": {
      "image/png": "[encoded data removed]",
      "text/plain": [
       "<Figure size 432x288 with 1 Axes>"
      ]
     },
     "metadata": {
      "needs_background": "light"
     },
     "output_type": "display_data"
    }
   ],
   "source": [
    "plt.figure()\n",
    "plt.plot(sample1, label='Truncation value')\n",
    "plt.plot(sample2, label='Reflection value')\n",
    "plt.legend()\n",
    "plt.show()"
   ]
  },
  {
   "cell_type": "markdown",
   "metadata": {},
   "source": [
    "They look the same because their value never reach negative in this sample "
   ]
  },
  {
   "cell_type": "code",
   "execution_count": 205,
   "metadata": {},
   "outputs": [],
   "source": [
    "#c\n",
    "ddf= pd.DataFrame([[n_paths, x1, error1, t1], [n_paths, x2, error2, t2], [n_paths, x3, error3, t3]],\\\n",
    "                  columns=['Path_number', 'Simulated_Value', 'error', 'Time cost'], \\\n",
    "                  index=['Truncation', 'Reflection', 'Exact Discretization'])\n"
   ]
  },
  {
   "cell_type": "code",
   "execution_count": 206,
   "metadata": {},
   "outputs": [
    {
     "data": {
      "text/html": [
       "<div>\n",
       "<style scoped>\n",
       "    .dataframe tbody tr th:only-of-type {\n",
       "        vertical-align: middle;\n",
       "    }\n",
       "\n",
       "    .dataframe tbody tr th {\n",
       "        vertical-align: top;\n",
       "    }\n",
       "\n",
       "    .dataframe thead th {\n",
       "        text-align: right;\n",
       "    }\n",
       "</style>\n",
       "<table border=\"1\" class=\"dataframe\">\n",
       "  <thead>\n",
       "    <tr style=\"text-align: right;\">\n",
       "      <th></th>\n",
       "      <th>Path_number</th>\n",
       "      <th>Simulated_Value</th>\n",
       "      <th>error</th>\n",
       "      <th>Time cost</th>\n",
       "    </tr>\n",
       "  </thead>\n",
       "  <tbody>\n",
       "    <tr>\n",
       "      <th>Truncation</th>\n",
       "      <td>1000</td>\n",
       "      <td>0.106991</td>\n",
       "      <td>0.006388</td>\n",
       "      <td>0.002859</td>\n",
       "    </tr>\n",
       "    <tr>\n",
       "      <th>Reflection</th>\n",
       "      <td>1000</td>\n",
       "      <td>0.155558</td>\n",
       "      <td>0.006390</td>\n",
       "      <td>0.057444</td>\n",
       "    </tr>\n",
       "    <tr>\n",
       "      <th>Exact Discretization</th>\n",
       "      <td>1000</td>\n",
       "      <td>0.098987</td>\n",
       "      <td>0.001858</td>\n",
       "      <td>0.029968</td>\n",
       "    </tr>\n",
       "  </tbody>\n",
       "</table>\n",
       "</div>"
      ],
      "text/plain": [
       "                      Path_number  Simulated_Value     error  Time cost\n",
       "Truncation                   1000         0.106991  0.006388   0.002859\n",
       "Reflection                   1000         0.155558  0.006390   0.057444\n",
       "Exact Discretization         1000         0.098987  0.001858   0.029968"
      ]
     },
     "execution_count": 206,
     "metadata": {},
     "output_type": "execute_result"
    }
   ],
   "source": [
    "ddf"
   ]
  },
  {
   "cell_type": "code",
   "execution_count": null,
   "metadata": {},
   "outputs": [],
   "source": []
  }
 ],
 "metadata": {
  "hide_input": false,
  "kernelspec": {
   "display_name": "Python 3 (ipykernel)",
   "language": "python",
   "name": "python3"
  },
  "language_info": {
   "codemirror_mode": {
    "name": "ipython",
    "version": 3
   },
   "file_extension": ".py",
   "mimetype": "text/x-python",
   "name": "python",
   "nbconvert_exporter": "python",
   "pygments_lexer": "ipython3",
   "version": "3.9.15"
  },
  "toc": {
   "base_numbering": 1,
   "nav_menu": {},
   "number_sections": true,
   "sideBar": true,
   "skip_h1_title": false,
   "title_cell": "Table of Contents",
   "title_sidebar": "Contents",
   "toc_cell": false,
   "toc_position": {},
   "toc_section_display": true,
   "toc_window_display": false
  },
  "varInspector": {
   "cols": {
    "lenName": 16,
    "lenType": 16,
    "lenVar": 40
   },
   "kernels_config": {
    "python": {
     "delete_cmd_postfix": "",
     "delete_cmd_prefix": "del ",
     "library": "var_list.py",
     "varRefreshCmd": "print(var_dic_list())"
    },
    "r": {
     "delete_cmd_postfix": ") ",
     "delete_cmd_prefix": "rm(",
     "library": "var_list.r",
     "varRefreshCmd": "cat(var_dic_list()) "
    }
   },
   "types_to_exclude": [
    "module",
    "function",
    "builtin_function_or_method",
    "instance",
    "_Feature"
   ],
   "window_display": false
  }
 },
 "nbformat": 4,
 "nbformat_minor": 1
}
