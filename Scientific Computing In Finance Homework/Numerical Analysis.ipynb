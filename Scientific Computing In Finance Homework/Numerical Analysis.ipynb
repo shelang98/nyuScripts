{
 "cells": [
  {
   "cell_type": "markdown",
   "metadata": {
    "slideshow": {
     "slide_type": "slide"
    }
   },
   "source": [
    "# Homework Set 1"
   ]
  },
  {
   "cell_type": "markdown",
   "metadata": {},
   "source": [
    "## Problem 1 (20 points):"
   ]
  },
  {
   "cell_type": "markdown",
   "metadata": {},
   "source": [
    "It is possible to use symbolic code to eliminate round off errors using `sympy`, see the code below. Why don't we avoid these complications this way? Modify the code below and plot the time required each loop as n ranges from 1 to 100,000."
   ]
  },
  {
   "cell_type": "code",
   "execution_count": 178,
   "metadata": {},
   "outputs": [],
   "source": [
    "import sympy as sp\n",
    "import pandas as pd\n",
    "from sympy import Rational\n",
    "import numpy as np\n",
    "import matplotlib as mpl\n",
    "import matplotlib.pyplot as plt\n",
    "\n",
    "dx_symbolic = Rational (1 ,10)\n",
    "dx = 0.1\n",
    "\n",
    "def loop_sympy (n):\n",
    "    x = 0\n",
    "    for i in range(n):\n",
    "        x = x + dx_symbolic\n",
    "    return x\n",
    "\n",
    "def loop_float(n):\n",
    "    x =0\n",
    "    for i in range(n):\n",
    "        x = x + dx\n",
    "    return x\n",
    "\n",
    "def time_this (f, n):\n",
    "    import time\n",
    "    starttime = time.time()\n",
    "    result = f(n)\n",
    "    stoptime = time.time()\n",
    "    #print(\" deviation is %16.15g\" % ( n * dx_symbolic - result ))\n",
    "    return stoptime - starttime\n",
    "\n",
    "# print(\"loop using float dx:\")\n",
    "# time_float = time_this(loop_float, n)\n",
    "# print(\"float loop n=%d takes %6.5f seconds\" % (n, time_float))\n",
    "# print(\"loop using sympy symbolic dx:\")\n",
    "# time_sympy = time_this (loop_sympy, n)\n",
    "# print(\"sympy loop n =% d takes %6.5f seconds\" % (n , time_sympy ))\n",
    "# print(\"Symbolic loop is a factor %.1f slower.\" % ( time_sympy / time_float ))"
   ]
  },
  {
   "cell_type": "code",
   "execution_count": 183,
   "metadata": {},
   "outputs": [],
   "source": [
    "time_list_float=[]\n",
    "time_list_sympy=[]\n",
    "for n in range(100000):\n",
    "    time_list_float.append(time_this(loop_float, n))\n",
    "    time_list_sympy.append(time_this(loop_sympy, n))"
   ]
  },
  {
   "cell_type": "code",
   "execution_count": 185,
   "metadata": {},
   "outputs": [
    {
     "data": {
      "text/plain": [
       "<AxesSubplot:>"
      ]
     },
     "execution_count": 185,
     "metadata": {},
     "output_type": "execute_result"
    },
    {
     "data": {
      "image/png": "[encoded data removed]",
      "text/plain": [
       "<Figure size 720x576 with 1 Axes>"
      ]
     },
     "metadata": {
      "needs_background": "light"
     },
     "output_type": "display_data"
    }
   ],
   "source": [
    "d={'float':time_list_float,'sympy':time_list_sympy}\n",
    "idx=[i for i in range(1,100001)]\n",
    "df_time=pd.DataFrame(data=d,index=idx)\n",
    "df_time.plot(figsize=(10,8)\n",
    "             #,loglog=True#\n",
    "            )"
   ]
  },
  {
   "cell_type": "markdown",
   "metadata": {},
   "source": [
    "## Problem 2 (20 points):"
   ]
  },
  {
   "cell_type": "markdown",
   "metadata": {},
   "source": [
    "For the first term of the conditional variance expression of the CIR process discused in the class:\n",
    "\n",
    "$$f(\\kappa) = \\frac{r_0\\sigma^2}{\\kappa}(e^{-\\kappa t} - e^{-2\\kappa t})$$\n",
    "\n",
    "1. compute its condition number, assuming $\\kappa$ is the only variable, comment on whether the computation is stable around $\\kappa = 0$\n",
    "2. implement a function to compute the above expression, which is numerically stable around $\\kappa = 0$. A typical approach is to switch to an approximation when $\\kappa$ is smaller than a threshold $h$. Explain your choice of $h$, is the $h$ different for double or single precision calculation?  "
   ]
  },
  {
   "cell_type": "markdown",
   "metadata": {},
   "source": [
    "Ans 1:. condition number: $k(f) = \\sum_i \\left| \\frac{x_i}{f}\\frac{\\partial f}{\\partial x_i} \\right|$, and here is only one variable $\\kappa $ here. \n",
    "\n",
    "Without the constant, the conditional number $k= |\\frac{\\left(2 k t+1) e^{-2 k t}-(k t+1) e^{-k t}\\right.}{e^{-k t} -e^{- 2 k t}}|$,  its unstable near $\\kappa=0$ since it both include substraction at the same amount in numerator and denominator, which will cause catastrophic cancellation in calculation."
   ]
  },
  {
   "cell_type": "markdown",
   "metadata": {},
   "source": [
    "Ans 2: use taylor expansion to help solve this question. $$e^{-t\\kappa}=e^{0}-e^{0}{t\\kappa}+\\frac{e^0}{2} \\kappa^2t^2-\\frac{e^0}{6}{\\zeta}^3t^3$$ where $\\zeta$ is a number between 0 and $\\kappa$.\n",
    "\n",
    "since $e^0=1$, we should focus on and apply taylor series to $\\frac{1-e^{-t\\kappa}}{\\kappa}$,  $$\\frac{1-e^{-t\\kappa}}{\\kappa}=t-\\frac{1}{2}{t^2 \\kappa}+\\frac{1}{6}\\frac{\\zeta^3 t^3}{\\kappa}$$\n",
    "\n",
    "so  $$r_0\\sigma^2(t-\\frac{1}{2}{t^2 \\kappa}+\\frac{1}{6}\\frac{\\zeta^3 t^3}{\\kappa})$$ will be a good approximation for our function.\n",
    "\n",
    "\n",
    "Regarding our error term, our h should be a function in this form:$$h = \\sqrt{\\frac{6e}{t^3}\\}\\$$"
   ]
  },
  {
   "cell_type": "markdown",
   "metadata": {},
   "source": [
    "For double and single precision calculation, we can choose t=1:"
   ]
  },
  {
   "cell_type": "code",
   "execution_count": 228,
   "metadata": {},
   "outputs": [
    {
     "name": "stdout",
     "output_type": "stream",
     "text": [
      "False\n"
     ]
    }
   ],
   "source": [
    "prec_single = 2**(-24)\n",
    "prec_double = 2**(-53)\n",
    "h_single=np.sqrt(6*prec_single/(1**3))\n",
    "h_double=np.sqrt(6*prec_double/(1**3))\n",
    "print(h_single==h_double)"
   ]
  },
  {
   "cell_type": "markdown",
   "metadata": {},
   "source": [
    "The h for double and single calculation are not the same."
   ]
  },
  {
   "cell_type": "markdown",
   "metadata": {},
   "source": [
    "## Problem 3 (20 points):"
   ]
  },
  {
   "cell_type": "markdown",
   "metadata": {},
   "source": [
    "Implement a matrix product function using hand coded loops in python, please feel free to use numpy array and numpy vector multiplications, but obviously you should not just call numpy matrix multiplication.\n",
    "\n",
    "Compare the speed of your implementation to the numpy matrix product version, plot the difference in computational time with the size of the matrix.\n",
    "\n",
    "\n",
    "Hint: \n",
    "\n",
    "* %timeit is a useful timing tool in IPython, or you can use time.clock() function\n",
    "* numpy has two ways of representing matrix, one is array of arrays, another is matrix type. For array types, the matrix product is ```a.dot(b)``` or, currently recommended, ```a@b```. For matrix type, the matrix product is ```a*b```. We recommend you to stick with array type to avoid any potential confusions. The ```a*b``` on array type is element wise multiplication. A common mistake is to use ```a*b``` for matrix product on array type. Please see the following code section as an example.\n",
    "* numpy.allclose is a useful function to compare floating point calculation results"
   ]
  },
  {
   "cell_type": "code",
   "execution_count": 59,
   "metadata": {},
   "outputs": [],
   "source": [
    "import numpy as np\n",
    "import time"
   ]
  },
  {
   "cell_type": "code",
   "execution_count": null,
   "metadata": {},
   "outputs": [],
   "source": [
    "a = np.array([[1, 2, 3], [4, 5, 6], [7, 8, 9]])\n",
    "b = a + 1\n",
    "print(\"a=\\n\", a)\n",
    "print(\"\\nb=\\n\", b)\n",
    "c = a.dot(b) # matrix product\n",
    "d = a@b # alternative\n",
    "e = a*b #elment wise multiplication\n",
    "\n",
    "print(\"\\nc=a.dot(b)\\n\", c)\n",
    "print(\"\\nd=a@b\\n\", d)\n",
    "print(\"\\ne=a*b\\n\", e)"
   ]
  },
  {
   "cell_type": "code",
   "execution_count": 52,
   "metadata": {},
   "outputs": [],
   "source": [
    "def matrix_multiply(A,B):\n",
    "    row=A.shape[0]\n",
    "    col=B.shape[1]\n",
    "    C=np.zeros((row,col))\n",
    "    for i in range(row):\n",
    "        for j in range(col):\n",
    "            C[i,j]=A[i,:].dot(B[:,j])\n",
    "    return C,row,col"
   ]
  },
  {
   "cell_type": "code",
   "execution_count": 136,
   "metadata": {},
   "outputs": [],
   "source": [
    "time_diff=np.zeros(100)\n",
    "for row in range(100):\n",
    "    A=np.random.rand(row,row)\n",
    "    B=np.random.rand(row,row)\n",
    "    aa=time.time()\n",
    "    A@B\n",
    "    multi=time.time()-aa\n",
    "        \n",
    "    aaa=time.time()\n",
    "    matrix_multiply(A,B)\n",
    "    algo=time.time()-aaa\n",
    "        \n",
    "    time_diff[row]=algo-multi"
   ]
  },
  {
   "cell_type": "code",
   "execution_count": 175,
   "metadata": {},
   "outputs": [
    {
     "data": {
      "text/plain": [
       "<AxesSubplot:xlabel='size of matrix', ylabel='time difference'>"
      ]
     },
     "execution_count": 175,
     "metadata": {},
     "output_type": "execute_result"
    },
    {
     "data": {
      "image/png": "[encoded data removed]",
      "text/plain": [
       "<Figure size 432x288 with 1 Axes>"
      ]
     },
     "metadata": {
      "needs_background": "light"
     },
     "output_type": "display_data"
    }
   ],
   "source": [
    "kk=pd.DataFrame(data=time_diff,columns={'time difference'})\n",
    "kk.index+=1\n",
    "kk.plot(ylabel='time difference',xlabel='size of matrix')"
   ]
  },
  {
   "cell_type": "markdown",
   "metadata": {},
   "source": [
    "## Problem 4 (20 points):"
   ]
  },
  {
   "cell_type": "markdown",
   "metadata": {},
   "source": [
    "From analysis, we know that the derivative of a differential function $f(x)$ is the limit of a difference quotient:\n",
    "\n",
    "$$ f'(x) =  \\lim_{h \\rightarrow 0}\\frac{f(x+h) - f(x)}{h} $$\n",
    "\n",
    "This suggest the following approximation of the derivative by difference quotient with small but finite $h>0$:\n",
    "\n",
    "$$ f'(x) \\approx  \\frac{f(x+h) - f(x)}{h} $$\n",
    "\n",
    "for $|h|<<1$.\n",
    "\n",
    "Analysis tells us that the approximation error should tend to zero as $h$ approaches 0. More precise information is provided by a Taylor expansion for a twice differentiable function\"\n",
    "\n",
    "$$ f(x+h) = f(x) + f'(x)h +\\frac{1}{2}f''(\\zeta)h^2 $$\n",
    "for some\n",
    "$$ \\zeta = \\zeta(x,h) \\in |min(x,x+h),max(x,x+h)| $$\n",
    "\n",
    "from which we infer\n",
    "\n",
    "$$ \\frac{f(x+h) - f(x)}{h} - f'(x) = \\frac{1}{2} f''(\\zeta)h^2$$\n",
    "for some\n",
    "$$ \\zeta = \\zeta(x,h) \\in |min(x,x+h),max(x,x+h)| $$\n"
   ]
  },
  {
   "cell_type": "markdown",
   "metadata": {},
   "source": [
    "Investigate the approximation of the derivative by difference quotients for $f(x)=e^x$, at $x=0$ for different values of $h>0$ and display both in table form and graphically the error verses $\\log_{10}(h)$. **Hint:** start with $\\log_{10}(h) = -1$ and run to $\\log_{10}(h) = -16$."
   ]
  },
  {
   "cell_type": "markdown",
   "metadata": {},
   "source": [
    "Ans: approximate the derivative by the quotient for each h, and record the error term."
   ]
  },
  {
   "cell_type": "code",
   "execution_count": 119,
   "metadata": {},
   "outputs": [
    {
     "data": {
      "text/plain": [
       "<AxesSubplot:xlabel='log10(h)', ylabel='error'>"
      ]
     },
     "execution_count": 119,
     "metadata": {},
     "output_type": "execute_result"
    },
    {
     "data": {
      "image/png": "[encoded data removed]",
      "text/plain": [
       "<Figure size 720x576 with 1 Axes>"
      ]
     },
     "metadata": {
      "needs_background": "light"
     },
     "output_type": "display_data"
    }
   ],
   "source": [
    "h=np.logspace(-1,-16, 100, endpoint=True)\n",
    "error_h=(np.exp(h)-1)/h-1\n",
    "pd_error=pd.DataFrame({'log10(h)':np.log10(h),'error by h':np.abs(error_h)})\n",
    "pd_error.plot(figsize=(10,8),x='log10(h)',y='error by h',ylabel='error')"
   ]
  },
  {
   "cell_type": "code",
   "execution_count": 120,
   "metadata": {},
   "outputs": [
    {
     "data": {
      "text/html": [
       "<div>\n",
       "<style scoped>\n",
       "    .dataframe tbody tr th:only-of-type {\n",
       "        vertical-align: middle;\n",
       "    }\n",
       "\n",
       "    .dataframe tbody tr th {\n",
       "        vertical-align: top;\n",
       "    }\n",
       "\n",
       "    .dataframe thead th {\n",
       "        text-align: right;\n",
       "    }\n",
       "</style>\n",
       "<table border=\"1\" class=\"dataframe\">\n",
       "  <thead>\n",
       "    <tr style=\"text-align: right;\">\n",
       "      <th></th>\n",
       "      <th>log10(h)</th>\n",
       "      <th>error by h</th>\n",
       "    </tr>\n",
       "  </thead>\n",
       "  <tbody>\n",
       "    <tr>\n",
       "      <th>0</th>\n",
       "      <td>-1.000000</td>\n",
       "      <td>0.051709</td>\n",
       "    </tr>\n",
       "    <tr>\n",
       "      <th>1</th>\n",
       "      <td>-1.151515</td>\n",
       "      <td>0.036118</td>\n",
       "    </tr>\n",
       "    <tr>\n",
       "      <th>2</th>\n",
       "      <td>-1.303030</td>\n",
       "      <td>0.025303</td>\n",
       "    </tr>\n",
       "    <tr>\n",
       "      <th>3</th>\n",
       "      <td>-1.454545</td>\n",
       "      <td>0.017763</td>\n",
       "    </tr>\n",
       "    <tr>\n",
       "      <th>4</th>\n",
       "      <td>-1.606061</td>\n",
       "      <td>0.012488</td>\n",
       "    </tr>\n",
       "    <tr>\n",
       "      <th>...</th>\n",
       "      <td>...</td>\n",
       "      <td>...</td>\n",
       "    </tr>\n",
       "    <tr>\n",
       "      <th>95</th>\n",
       "      <td>-15.393939</td>\n",
       "      <td>0.100043</td>\n",
       "    </tr>\n",
       "    <tr>\n",
       "      <th>96</th>\n",
       "      <td>-15.545455</td>\n",
       "      <td>0.220359</td>\n",
       "    </tr>\n",
       "    <tr>\n",
       "      <th>97</th>\n",
       "      <td>-15.696970</td>\n",
       "      <td>0.105121</td>\n",
       "    </tr>\n",
       "    <tr>\n",
       "      <th>98</th>\n",
       "      <td>-15.848485</td>\n",
       "      <td>0.566481</td>\n",
       "    </tr>\n",
       "    <tr>\n",
       "      <th>99</th>\n",
       "      <td>-16.000000</td>\n",
       "      <td>1.000000</td>\n",
       "    </tr>\n",
       "  </tbody>\n",
       "</table>\n",
       "<p>100 rows × 2 columns</p>\n",
       "</div>"
      ],
      "text/plain": [
       "     log10(h)  error by h\n",
       "0   -1.000000    0.051709\n",
       "1   -1.151515    0.036118\n",
       "2   -1.303030    0.025303\n",
       "3   -1.454545    0.017763\n",
       "4   -1.606061    0.012488\n",
       "..        ...         ...\n",
       "95 -15.393939    0.100043\n",
       "96 -15.545455    0.220359\n",
       "97 -15.696970    0.105121\n",
       "98 -15.848485    0.566481\n",
       "99 -16.000000    1.000000\n",
       "\n",
       "[100 rows x 2 columns]"
      ]
     },
     "execution_count": 120,
     "metadata": {},
     "output_type": "execute_result"
    }
   ],
   "source": [
    "pd_error"
   ]
  },
  {
   "cell_type": "markdown",
   "metadata": {},
   "source": [
    "## Problem 5 (20 points):"
   ]
  },
  {
   "cell_type": "markdown",
   "metadata": {},
   "source": [
    "In high school (?), you learned that the quadratic equation has an analytic solution that can be written as either:\n",
    "$$ x_{1,2} = \\frac{-b \\pm \\sqrt{b^2 - 4 a c}}{2a} $$\n",
    "or\n",
    "$$ x'_{1,2} = \\frac{-2c}{b \\pm \\sqrt{b^2 - 4 a c}} $$\n",
    "\n",
    "Inspection of this second form indicates that subtractive cancellation (with a resulting increase in error) arises when $b^2 >> 4ac$ because the square root term and its preceding term nearly cancel for one of the roots."
   ]
  },
  {
   "cell_type": "markdown",
   "metadata": {},
   "source": [
    "a. Write a program that calculates all four solutions for arbitrary values of $a$, $b$, and $c$.\n",
    "\n",
    "\n",
    "b. Investigate how errors in you computed answers become large as the subtractive cancellation increases and relate this to your machine precision. **Hint:** A good test case uses $a=1$, $b=1$, $c=10^{-n}$, $n = 1, 2, 3, \\dots$.\n",
    "\n",
    "\n",
    "c. Extend your program so it indicates the most precise solutions."
   ]
  },
  {
   "cell_type": "markdown",
   "metadata": {},
   "source": [
    "Ans: (a)"
   ]
  },
  {
   "cell_type": "code",
   "execution_count": 192,
   "metadata": {},
   "outputs": [],
   "source": [
    "def four_sol(a,b,c):\n",
    "    de=(b**2-4*a*c)**0.5\n",
    "    x1=(-b+de)/(2*a)\n",
    "    x2=(-b-de)/(2*a)\n",
    "    x_1=-(2*c)/(b+de)\n",
    "    x_2=-(2*c)/(b-de)\n",
    "    return [x1,x2,x_1,x_2]"
   ]
  },
  {
   "cell_type": "markdown",
   "metadata": {},
   "source": [
    "(b) plot the absolute difference between two method, and plot them versus differen n. "
   ]
  },
  {
   "cell_type": "code",
   "execution_count": 197,
   "metadata": {},
   "outputs": [],
   "source": [
    "a=1\n",
    "b=1\n",
    "c=np.arange(1,16,1)"
   ]
  },
  {
   "cell_type": "code",
   "execution_count": 215,
   "metadata": {},
   "outputs": [
    {
     "data": {
      "text/plain": [
       "<AxesSubplot:>"
      ]
     },
     "execution_count": 215,
     "metadata": {},
     "output_type": "execute_result"
    },
    {
     "data": {
      "image/png": "[encoded data removed]",
      "text/plain": [
       "<Figure size 720x576 with 1 Axes>"
      ]
     },
     "metadata": {
      "needs_background": "light"
     },
     "output_type": "display_data"
    }
   ],
   "source": [
    "pos,neg=abs(four_sol(1,1,0.1**c)[0]-four_sol(1,1,0.1**c)[2]),abs(four_sol(1,1,0.1**c)[1]-four_sol(1,1,0.1**c)[3])\n",
    "dataa={'first root difference':pos,'second root difference':neg}\n",
    "value_diff=pd.DataFrame(data=dataa,index=c)\n",
    "value_diff.plot(figsize=(10,8))"
   ]
  },
  {
   "cell_type": "markdown",
   "metadata": {},
   "source": [
    "(c) For the most precise solution, we compute x and x_prime for x1 and x2 separately and put them back to the equation. Calculate f(x) and keep those x1 and x2 let f(x) close to zero, then return them. "
   ]
  },
  {
   "cell_type": "code",
   "execution_count": 224,
   "metadata": {},
   "outputs": [],
   "source": [
    "def f(x,a1,b1,c1):\n",
    "    return a1*x**2+b1*x+c1\n",
    "\n",
    "def precise_sol(a,b,c):\n",
    "    de=(b**2-4*a*c)**0.5\n",
    "    x1=(-b+de)/(2*a)\n",
    "    x2=(-b-de)/(2*a)\n",
    "    x_1=-(2*c)/(b+de)\n",
    "    x_2=-(2*c)/(b-de)\n",
    "    \n",
    "    x11=min([x1,x_1], key=lambda x : f(x,a,b,c))\n",
    "    x22=min([x2,x_2], key=lambda x : f(x,a,b,c))\n",
    "    return x11,x22\n",
    "    "
   ]
  }
 ],
 "metadata": {
  "hide_input": false,
  "kernelspec": {
   "display_name": "Python 3 (ipykernel)",
   "language": "python",
   "name": "python3"
  },
  "language_info": {
   "codemirror_mode": {
    "name": "ipython",
    "version": 3
   },
   "file_extension": ".py",
   "mimetype": "text/x-python",
   "name": "python",
   "nbconvert_exporter": "python",
   "pygments_lexer": "ipython3",
   "version": "3.9.7"
  },
  "toc": {
   "base_numbering": 1,
   "nav_menu": {
    "height": "201px",
    "width": "244px"
   },
   "number_sections": true,
   "sideBar": true,
   "skip_h1_title": false,
   "title_cell": "Table of Contents",
   "title_sidebar": "Contents",
   "toc_cell": false,
   "toc_position": {},
   "toc_section_display": true,
   "toc_window_display": false
  },
  "varInspector": {
   "cols": {
    "lenName": 16,
    "lenType": 16,
    "lenVar": 40
   },
   "kernels_config": {
    "python": {
     "delete_cmd_postfix": "",
     "delete_cmd_prefix": "del ",
     "library": "var_list.py",
     "varRefreshCmd": "print(var_dic_list())"
    },
    "r": {
     "delete_cmd_postfix": ") ",
     "delete_cmd_prefix": "rm(",
     "library": "var_list.r",
     "varRefreshCmd": "cat(var_dic_list()) "
    }
   },
   "position": {
    "height": "144px",
    "left": "956px",
    "right": "20px",
    "top": "119px",
    "width": "350px"
   },
   "types_to_exclude": [
    "module",
    "function",
    "builtin_function_or_method",
    "instance",
    "_Feature"
   ],
   "window_display": false
  }
 },
 "nbformat": 4,
 "nbformat_minor": 1
}
