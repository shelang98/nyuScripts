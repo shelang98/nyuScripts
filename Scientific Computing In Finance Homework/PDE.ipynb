{
 "cells": [
  {
   "cell_type": "markdown",
   "id": "eaed0ac3",
   "metadata": {},
   "source": [
    "# Problem Heat Equation"
   ]
  },
  {
   "cell_type": "markdown",
   "id": "0eb2fa6c",
   "metadata": {},
   "source": [
    "Let's consider the Bachelier model\n",
    "$$ dS_t = \\mu dt + \\sigma dW_t $$\n",
    "\n",
    "and note \n",
    "$$ u(t,s) = E\\left( (S_T - K)^+  | S_t = s  \\right)  $$\n",
    "\n",
    "with $K=100$, $\\sigma = 0.25$, $\\mu = 0.02$.\n"
   ]
  },
  {
   "cell_type": "markdown",
   "id": "4669af6e",
   "metadata": {},
   "source": [
    "1. [20 points] Derive an analytical expression for $u(t,s)$."
   ]
  },
  {
   "cell_type": "markdown",
   "id": "95b0d0f7",
   "metadata": {},
   "source": [
    "2. [20 points] What is the PDE and corresponding boundary conditions satistified by $u(t,s)$? (give mathematical arguments)"
   ]
  },
  {
   "cell_type": "markdown",
   "id": "8fe305a1",
   "metadata": {},
   "source": [
    "3. [20 points] Let's note \n",
    "$f(t,s) = u(t,s + at)$\n",
    "\n",
    "Find $a$ such that $f$ satisfies a PDE of the form\n",
    "\n",
    "$$ \\frac{\\partial f}{\\partial t} + \\frac{1}{2} \\sigma^2 \\frac{\\partial^2 f}{\\partial s^2} = 0 $$\n",
    "\n",
    "and indicate the boundary conditions.\n"
   ]
  },
  {
   "cell_type": "markdown",
   "id": "fc74f9e0",
   "metadata": {},
   "source": [
    "4. [20 points] \n",
    "  * [5 points] What is the stability CFL condition for the explicit scheme?\n",
    "\n",
    "  * [15 points] Adapt the code from the lecture to compute $f(0,s)$ for $S \\in [30, 200]$ using the explicit scheme and compare with the analytical expression of $u(t,s)$ and from the fact that $u(t,s) = f(t,s-at)$. Explain how you choose the number of steps in the time and space dimension.\n"
   ]
  },
  {
   "cell_type": "code",
   "execution_count": 9,
   "id": "c85ae73f",
   "metadata": {},
   "outputs": [],
   "source": [
    "import numpy as np\n",
    "import matplotlib.pyplot as plt\n",
    "from scipy.stats import norm\n",
    "import time \n",
    "from scipy import sparse\n",
    "import scipy.sparse.linalg.dsolve as linsolve\n",
    "\n",
    "class Q_explicit:\n",
    "    def __init__(self, \n",
    "               miu, \n",
    "               sigma, \n",
    "               maturity, \n",
    "               Smin, \n",
    "               Smax, \n",
    "               Fl, \n",
    "               Fu, \n",
    "               payoff, \n",
    "               nt, \n",
    "               ns):\n",
    "        self.miu  = miu \n",
    "        self.sigma = sigma \n",
    "        self.maturity  = maturity\n",
    "\n",
    "        self.Smin = Smin     \n",
    "        self.Smax = Smax\n",
    "        self.Fl = Fl        \n",
    "        self.Fu = Fu\n",
    "\n",
    "        self.nt  = nt\n",
    "        self.ns  = ns\n",
    "\n",
    "        self.dt = float(maturity)/nt\n",
    "        self.dx = float(Smax-Smin)/(ns+1)\n",
    "        self.xs = Smin/self.dx\n",
    "\n",
    "        self.u = np.empty((nt + 1, ns))\n",
    "        self.u[0,:] = payoff\n",
    "\n",
    "        ## Building Coefficient matrix:        \n",
    "        A = sparse.lil_matrix((self.ns, self.ns))\n",
    "\n",
    "        for j in range(0, self.ns):\n",
    "\n",
    "            dtmp1 = .5* self.miu* (self.dt/ self.dx)\n",
    "            dtmp2 = self.dt* (self.sigma/ self.dx)**2\n",
    "\n",
    "            A[j,j] = 1.0 + dtmp2\n",
    "            if j > 0:\n",
    "                A[j,j-1] = dtmp1 - dtmp2/2\n",
    "            if j < self.ns - 1:\n",
    "                A[j,j+1] = - dtmp1 - dtmp2/2\n",
    "\n",
    "        self.A = A.tocsr()\n",
    "\n",
    "        ### Building bc_coef:\n",
    "        cf1 = .5* self.miu* (self.dt/ self.dx)\n",
    "        cf2 = self.dt* (self.sigma/ self.dx)**2\n",
    "\n",
    "        self.blcoef = cf1 - .5*cf2\n",
    "        self.bucoef = - cf1 - .5*cf2\n",
    "    \n",
    "    def solve(self):\n",
    "        for i in range(0, self.nt):\n",
    "            self.u[i+1,:]          = self.A * self.u[i,:]\n",
    "            self.u[i+1,0]         += self.blcoef * self.Fl[i]\n",
    "            self.u[i+1,self.ns-1] += self.bucoef * self.Fu[i]\n",
    "\n",
    "        return self.u\n"
   ]
  },
  {
   "cell_type": "code",
   "execution_count": 19,
   "id": "f21d8733",
   "metadata": {},
   "outputs": [],
   "source": [
    "Smin = 30\n",
    "Smax = 200\n",
    "ns = 201 \n",
    "K = 100\n",
    "r = .02\n",
    "sigma = .25\n",
    "T = 1\n",
    "X = np.linspace(Smin, Smax, ns)\n",
    "X = X[1:-1]\n",
    "payoff = np.clip(X-K, 0.0, 1e60)\n",
    "m = 4555\n",
    "Fl = np.zeros((m+1,))\n",
    "Fu = Smax - K*np.exp(-r * np.linspace(0.0, T, m+1))\n",
    "\n",
    "n = ns -2\n",
    "\n",
    "exp = Q_explicit(r, sigma, T, Smin, Smax, Fl, Fu, payoff, m, n)\n",
    "ans = exp.solve()"
   ]
  },
  {
   "cell_type": "code",
   "execution_count": 25,
   "id": "a8643762",
   "metadata": {},
   "outputs": [],
   "source": [
    "T = 1\n",
    "K = 100\n",
    "sigma = 0.25\n",
    "def u(t,s):\n",
    "    d = (s + r * (T - t) - K)/(sigma * ((T - t) ** 0.5))\n",
    "    m1 =  s + r * (T - t) - K\n",
    "    m2 = sigma * ((T - t) ** 0.5)\n",
    "    return m1 * norm.cdf(d) + m2 * norm.pdf(d)\n",
    "\n",
    "def f(t,s):\n",
    "    return u(t, s + 0.02 * t)"
   ]
  },
  {
   "cell_type": "code",
   "execution_count": 52,
   "id": "32489495",
   "metadata": {},
   "outputs": [
    {
     "data": {
      "text/plain": [
       "Text(0.5, 1.0, 'Call Option price using analytical solution')"
      ]
     },
     "execution_count": 52,
     "metadata": {},
     "output_type": "execute_result"
    },
    {
     "data": {
      "image/png": "[encoded data removed]",
      "text/plain": [
       "<Figure size 432x288 with 1 Axes>"
      ]
     },
     "metadata": {
      "needs_background": "light"
     },
     "output_type": "display_data"
    }
   ],
   "source": [
    "Ss = np.linspace(Smin, Smax, ns, endpoint=True)\n",
    "fs = f(0, Ss)\n",
    "plt.plot(Ss,fs)\n",
    "plt.title(\"Call Option price using analytical solution\")"
   ]
  },
  {
   "cell_type": "code",
   "execution_count": 28,
   "id": "6428fffe",
   "metadata": {},
   "outputs": [
    {
     "data": {
      "text/plain": [
       "Text(0.5, 1.0, 'FDM explicit method with nt=4555')"
      ]
     },
     "execution_count": 28,
     "metadata": {},
     "output_type": "execute_result"
    },
    {
     "data": {
      "image/png": "[encoded data removed]",
      "text/plain": [
       "<Figure size 432x288 with 1 Axes>"
      ]
     },
     "metadata": {
      "needs_background": "light"
     },
     "output_type": "display_data"
    }
   ],
   "source": [
    "sigma = 0.25\n",
    "miu = 0.02\n",
    "K = 100\n",
    "ns = 201\n",
    "Smin = 30\n",
    "Smax = 200\n",
    "T = 1\n",
    "\n",
    "n = ns-2\n",
    "m = 4555\n",
    "X = np.linspace(Smin, Smax, n+2)\n",
    "X = X[1:-1]\n",
    "\n",
    "payoff = np.clip(X-K, 0.0, 1e50)\n",
    "   \n",
    "Fl = np.zeros((m+1,))\n",
    "Fu = Smax + miu*(T-np.linspace(0.0, T, m+1)) - K\n",
    "\n",
    "bm_ex = Q_explicit(mu, sigma, T, Smin, Smax, Fl, Fu, payoff, m, n)\n",
    "sol_ex = bm_ex.solve()\n",
    "nrow = len(sol_ex[:,1])\n",
    "plt.plot(X, sol_ex[nrow-1,:])\n",
    "plt.title(f'FDM explicit method with nt={m}')"
   ]
  },
  {
   "cell_type": "markdown",
   "id": "6649480d",
   "metadata": {},
   "source": [
    "5. [20 points]\n",
    "Adapt the code from the lecture to compute $f(0,s)$ for $S \\in [30, 200]$ using the implicit scheme and compare with the analytical expression of $u(t,s)$ and from the fact that $u(t,s) = f(t,se^{-at})e^{-bt}$. Explain how you choose the number of steps in the time and space dimension."
   ]
  },
  {
   "cell_type": "code",
   "execution_count": 48,
   "id": "b91aab21",
   "metadata": {},
   "outputs": [],
   "source": [
    "class Q_implicit:\n",
    "    def __init__(self, \n",
    "               miu, \n",
    "               sigma, \n",
    "               maturity, \n",
    "               Smin, \n",
    "               Smax, \n",
    "               Fl, \n",
    "               Fu, \n",
    "               payoff, \n",
    "               nt, \n",
    "               ns):\n",
    "        self.miu  = miu \n",
    "        self.sigma = sigma \n",
    "        self.maturity  = maturity\n",
    "\n",
    "        self.Smin = Smin     \n",
    "        self.Smax = Smax\n",
    "        self.Fl = Fl        \n",
    "        self.Fu = Fu\n",
    "\n",
    "        self.nt  = nt\n",
    "        self.ns  = ns\n",
    "\n",
    "        self.dt = float(maturity)/nt\n",
    "        self.dx = float(Smax-Smin)/(ns+1)\n",
    "        self.xs = Smin/self.dx\n",
    "\n",
    "        self.u = np.empty((nt + 1, ns))\n",
    "        self.u[0,:] = payoff\n",
    "\n",
    "        ## Building Coefficient matrix:        \n",
    "        A = sparse.lil_matrix((self.ns, self.ns))\n",
    "\n",
    "        for j in range(0, self.ns):\n",
    "\n",
    "            dtmp1 = .5* self.miu* (self.dt/ self.dx)\n",
    "            dtmp2 = self.dt* (self.sigma/ self.dx)**2\n",
    "\n",
    "            A[j,j] = 1.0 - dtmp2\n",
    "            if j > 0:\n",
    "                A[j,j-1] = - dtmp1 + dtmp2/2\n",
    "            if j < self.ns - 1:\n",
    "                A[j,j+1] =   dtmp1 + dtmp2/2\n",
    "\n",
    "        self.A = linsolve.splu(A)\n",
    "        self.rhs = np.empty((self.ns, ))\n",
    "\n",
    "        ### Building bc_coef:\n",
    "        cf1 = .5* self.miu* (self.dt/ self.dx)\n",
    "        cf2 = self.dt* (self.sigma/ self.dx)**2\n",
    "\n",
    "        self.blcoef = - cf1 + .5*cf2\n",
    "        self.bucoef =   cf1 + .5*cf2\n",
    "    \n",
    "    def solve(self):\n",
    "        for i in range(0, self.nt):\n",
    "            self.rhs[:] = self.u[i,:]\n",
    "            self.rhs[0]         -= self.blcoef * self.Fl[i]\n",
    "            self.rhs[self.ns-1] -= self.bucoef * self.Fu[i]\n",
    "            self.u[i+1,:] = self.A.solve(self.rhs)\n",
    "\n",
    "        return self.u"
   ]
  },
  {
   "cell_type": "code",
   "execution_count": 51,
   "id": "bd9ec066",
   "metadata": {},
   "outputs": [
    {
     "name": "stderr",
     "output_type": "stream",
     "text": [
      "/opt/anaconda3/lib/python3.9/site-packages/scipy/sparse/linalg/dsolve/linsolve.py:318: SparseEfficiencyWarning: splu requires CSC matrix format\n",
      "  warn('splu requires CSC matrix format', SparseEfficiencyWarning)\n"
     ]
    },
    {
     "data": {
      "text/plain": [
       "Text(0.5, 1.0, 'FDM implicit method with nt=200')"
      ]
     },
     "execution_count": 51,
     "metadata": {},
     "output_type": "execute_result"
    },
    {
     "data": {
      "image/png": "[encoded data removed]",
      "text/plain": [
       "<Figure size 432x288 with 1 Axes>"
      ]
     },
     "metadata": {
      "needs_background": "light"
     },
     "output_type": "display_data"
    }
   ],
   "source": [
    "m = 3000\n",
    "Fl = np.zeros((m+1,))\n",
    "Fu = Smax + miu*(T-np.linspace(0.0, T, m+1)) - K\n",
    "\n",
    "bm_im = Q_implicit(miu, sigma, T, Smin, Smax, Fl, Fu, payoff, m, n)\n",
    "sol_im = bm_im.solve()\n",
    "nrow = len(sol_im[:,1])\n",
    "plt.plot(X, sol_im[nrow-1,:])\n",
    "plt.title(f'FDM implicit method with nt={m}')"
   ]
  },
  {
   "cell_type": "markdown",
   "id": "8e3f2aec",
   "metadata": {},
   "source": [
    "The implicit method is unconditionally stable, so we can choose steps in concern of both accuracy and excuting time."
   ]
  }
 ],
 "metadata": {
  "kernelspec": {
   "display_name": "Python 3 (ipykernel)",
   "language": "python",
   "name": "python3"
  },
  "language_info": {
   "codemirror_mode": {
    "name": "ipython",
    "version": 3
   },
   "file_extension": ".py",
   "mimetype": "text/x-python",
   "name": "python",
   "nbconvert_exporter": "python",
   "pygments_lexer": "ipython3",
   "version": "3.9.7"
  }
 },
 "nbformat": 4,
 "nbformat_minor": 5
}
