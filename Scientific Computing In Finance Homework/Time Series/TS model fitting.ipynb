{
 "cells": [
  {
   "cell_type": "code",
   "execution_count": 71,
   "id": "a38424e9",
   "metadata": {},
   "outputs": [],
   "source": [
    "import numpy as np\n",
    "import pandas as pd\n",
    "import matplotlib.pyplot as plt\n",
    "import statsmodels.api as sm\n",
    "import yfinance as yf\n",
    "import scipy.optimize as opt\n",
    "import scipy.stats as st\n",
    "from scipy.special import gamma"
   ]
  },
  {
   "cell_type": "code",
   "execution_count": 2,
   "id": "e78c8fed",
   "metadata": {},
   "outputs": [
    {
     "name": "stdout",
     "output_type": "stream",
     "text": [
      "[*********************100%***********************]  1 of 1 completed\n"
     ]
    }
   ],
   "source": [
    "spy = yf.download('SPY', start='2013-01-01', end='2022-12-01')['Adj Close']"
   ]
  },
  {
   "cell_type": "markdown",
   "id": "06e6c264",
   "metadata": {},
   "source": [
    "## 1 a scratching parameter for GARCH (1,1)"
   ]
  },
  {
   "cell_type": "code",
   "execution_count": 3,
   "id": "b96a750c",
   "metadata": {},
   "outputs": [],
   "source": [
    "spy_pct = spy.pct_change()\n",
    "# detrend the return series\n",
    "at = spy_pct-np.mean(spy_pct)\n",
    "at = np.array(at[1:])\n",
    "# need to drop na term"
   ]
  },
  {
   "cell_type": "code",
   "execution_count": 4,
   "id": "656b73c9",
   "metadata": {},
   "outputs": [],
   "source": [
    "def sig_garch11(a0,a1,b,at):\n",
    "    # at from a0 to at , length t+1\n",
    "    n = len(at)\n",
    "    sig = np.zeros(n)\n",
    "    for i in range(len(at)):\n",
    "        if i == 0 :\n",
    "            sig[i] = a0/(1-a1-b)\n",
    "        else:\n",
    "            sig[i] = a0 + a1*at[i-1]**2 + b* sig[i-1]\n",
    "    return sig\n",
    "# the last sig doesnt match any output"
   ]
  },
  {
   "cell_type": "code",
   "execution_count": 5,
   "id": "eea1315f",
   "metadata": {},
   "outputs": [],
   "source": [
    "def ll_garch11(para, at, distr='N'):\n",
    "    a0 = para[0]\n",
    "    a1= para[1]\n",
    "    b = para[2]\n",
    "\n",
    "    sig = sig_garch11(a0,a1,b,at)\n",
    "    n = len(at)\n",
    "    L = 0\n",
    "    if distr == 'N':\n",
    "        L += (-n/2)*np.log(2*np.pi)\n",
    "        L += np.sum(-np.log(sig)-at**2/sig)/2\n",
    "    if distr == 'GED':\n",
    "        #need to adjust v (the last additional parameter), so 1/v is integer and we can use factorial\n",
    "        v = para[-1]\n",
    "        iv = 1/v\n",
    "        lbd = np.sqrt((2**(-2*iv)*gamma(iv)/gamma(3*iv)))\n",
    "        L += n*(np.log(v)-np.log(lbd)-(1+iv)*np.log(2)-np.log(gamma(iv)))\n",
    "        L -= sum(np.log(sig))/2\n",
    "        L -= 1/2* sum((at**2/(sig* (lbd**2)))**(v/2)) \n",
    "    return -L"
   ]
  },
  {
   "cell_type": "code",
   "execution_count": 6,
   "id": "1b16315c",
   "metadata": {},
   "outputs": [],
   "source": [
    "w0 = [0.1,0.05,0.92]\n",
    "bnds = ((0.001,None), (0.001,None),(0.001,None))\n",
    "w_n = opt.minimize(ll_garch11, w0, args = at*100,bounds=bnds).x"
   ]
  },
  {
   "cell_type": "code",
   "execution_count": 7,
   "id": "e37e85fc",
   "metadata": {},
   "outputs": [
    {
     "name": "stdout",
     "output_type": "stream",
     "text": [
      "the optimal parameter for the model is a0: 0.04164982597470052 a1: 0.20772808669001702 b1: 0.7553679952874226\n"
     ]
    }
   ],
   "source": [
    "print('the optimal parameter for the model is a0:',w_n[0],'a1:',w_n[1],'b1:',w_n[2])"
   ]
  },
  {
   "cell_type": "code",
   "execution_count": 8,
   "id": "b0456df1",
   "metadata": {},
   "outputs": [
    {
     "name": "stdout",
     "output_type": "stream",
     "text": [
      "Iteration:      5,   Func. Count:     64,   Neg. LLF: 198124657714.82193\n",
      "Iteration:     10,   Func. Count:    135,   Neg. LLF: 2763047426417675.0\n",
      "Optimization terminated successfully    (Exit mode 0)\n",
      "            Current function value: -4045.0169760938606\n",
      "            Iterations: 15\n",
      "            Function evaluations: 149\n",
      "            Gradient evaluations: 11\n",
      "                     Constant Mean - GARCH Model Results                      \n",
      "==============================================================================\n",
      "Dep. Variable:                      y   R-squared:                       0.000\n",
      "Mean Model:             Constant Mean   Adj. R-squared:                  0.000\n",
      "Vol Model:                      GARCH   Log-Likelihood:                4045.02\n",
      "Distribution:                  Normal   AIC:                          -8082.03\n",
      "Method:            Maximum Likelihood   BIC:                          -8058.74\n",
      "                                        No. Observations:                 2496\n",
      "Date:                Wed, Dec 14 2022   Df Residuals:                     2495\n",
      "Time:                        15:06:41   Df Model:                            1\n",
      "                                  Mean Model                                  \n",
      "==============================================================================\n",
      "                 coef    std err          t      P>|t|        95.0% Conf. Int.\n",
      "------------------------------------------------------------------------------\n",
      "mu            -0.0454  1.569e-03    -28.959 2.161e-184 [-4.851e-02,-4.236e-02]\n",
      "                               Volatility Model                              \n",
      "=============================================================================\n",
      "                 coef    std err          t      P>|t|       95.0% Conf. Int.\n",
      "-----------------------------------------------------------------------------\n",
      "omega      2.4006e-06  1.431e-06      1.678  9.332e-02 [-4.032e-07,5.204e-06]\n",
      "alpha[1]       0.2000  7.905e-02      2.530  1.140e-02    [4.508e-02,  0.355]\n",
      "beta[1]        0.7800  9.518e-02      8.195  2.505e-16      [  0.593,  0.967]\n",
      "=============================================================================\n",
      "\n",
      "Covariance estimator: robust\n"
     ]
    },
    {
     "name": "stderr",
     "output_type": "stream",
     "text": [
      "/opt/anaconda3/lib/python3.9/site-packages/arch/univariate/base.py:309: DataScaleWarning: y is poorly scaled, which may affect convergence of the optimizer when\n",
      "estimating the model parameters. The scale of y is 0.0001196. Parameter\n",
      "estimation work better when this value is between 1 and 1000. The recommended\n",
      "rescaling is 100 * y.\n",
      "\n",
      "This warning can be disabled by either rescaling y before initializing the\n",
      "model or by setting rescale=False.\n",
      "\n",
      "  warnings.warn(\n"
     ]
    }
   ],
   "source": [
    "# compare the answer\n",
    "from arch import arch_model\n",
    "\n",
    "am = arch_model(at)\n",
    "res = am.fit(update_freq=5)\n",
    "print(res.summary())"
   ]
  },
  {
   "cell_type": "markdown",
   "id": "bcb21522",
   "metadata": {},
   "source": [
    "## b parameter for GEM ditribution "
   ]
  },
  {
   "cell_type": "code",
   "execution_count": 9,
   "id": "f7294160",
   "metadata": {},
   "outputs": [
    {
     "name": "stderr",
     "output_type": "stream",
     "text": [
      "/var/folders/d0/6cymk_pn0yl4bjbhkblw54bh0000gn/T/ipykernel_62021/3288035068.py:9: RuntimeWarning: overflow encountered in double_scalars\n",
      "  sig[i] = a0 + a1*at[i-1]**2 + b* sig[i-1]\n",
      "/var/folders/d0/6cymk_pn0yl4bjbhkblw54bh0000gn/T/ipykernel_62021/3840848076.py:18: RuntimeWarning: invalid value encountered in log\n",
      "  L -= sum(np.log(sig))/2\n",
      "/var/folders/d0/6cymk_pn0yl4bjbhkblw54bh0000gn/T/ipykernel_62021/3840848076.py:19: RuntimeWarning: invalid value encountered in power\n",
      "  L -= 1/2* sum((at**2/(sig* (lbd**2)))**(v/2))\n",
      "/var/folders/d0/6cymk_pn0yl4bjbhkblw54bh0000gn/T/ipykernel_62021/3840848076.py:16: RuntimeWarning: invalid value encountered in double_scalars\n",
      "  lbd = np.sqrt((2**(-2*iv)*gamma(iv)/gamma(3*iv)))\n"
     ]
    }
   ],
   "source": [
    "w0_gem = [0.1,0.05,0.92,0.3]\n",
    "bnds = ((0.001,None), (0.001,None),(0.001,None),(0.001,None))\n",
    "w_gem = opt.minimize(ll_garch11, w0_gem, args = (at*100,'GED'),method='SLSQP',bounds=bnds).x"
   ]
  },
  {
   "cell_type": "code",
   "execution_count": 10,
   "id": "42a09f73",
   "metadata": {},
   "outputs": [
    {
     "name": "stdout",
     "output_type": "stream",
     "text": [
      "the optimal parameter for the model is a0: 0.03287438072148317 a1: 0.20047726735338767 b1: 0.7723167192044649 v: 1.2969297939132278\n"
     ]
    }
   ],
   "source": [
    "print('the optimal parameter for the model is a0:',w_gem[0],'a1:',w_gem[1],'b1:',w_gem[2],'v:',w_gem[3])"
   ]
  },
  {
   "cell_type": "markdown",
   "id": "165b9f0e",
   "metadata": {},
   "source": [
    "## c TGARCH(1,1) model"
   ]
  },
  {
   "cell_type": "code",
   "execution_count": 11,
   "id": "ae03626f",
   "metadata": {},
   "outputs": [],
   "source": [
    "def sig_tgarch11(a0,a1,b,y,at):\n",
    "    # at from a0 to at , length t+1\n",
    "    n = len(at)\n",
    "    sig = np.zeros(n)\n",
    "    for i in range(len(at)):\n",
    "        if i == 0 :\n",
    "            sig[i] = a0/(1-a1-b)\n",
    "        else:\n",
    "            if at[i-1]< 0:\n",
    "                sig[i] = a0 + (a1+y)*at[i-1]**2 + b* sig[i-1]\n",
    "            else:\n",
    "                sig[i] = a0 + a1*at[i-1]**2 + b* sig[i-1]\n",
    "    return sig\n",
    "# the last sig doesnt match any output"
   ]
  },
  {
   "cell_type": "code",
   "execution_count": 12,
   "id": "8848ee83",
   "metadata": {},
   "outputs": [],
   "source": [
    "def ll_tgarch11(para, at):\n",
    "    a0 = para[0]\n",
    "    a1= para[1]\n",
    "    b = para[2]\n",
    "    y = para[3]\n",
    "\n",
    "    sig = sig_tgarch11(a0,a1,b,y,at)\n",
    "    n = len(at)\n",
    "    L = 0\n",
    "    L += (-n/2)*np.log(2*np.pi)\n",
    "    L += np.sum(-np.log(sig)-at**2/sig)/2\n",
    "    return -L"
   ]
  },
  {
   "cell_type": "code",
   "execution_count": 13,
   "id": "37018a46",
   "metadata": {},
   "outputs": [
    {
     "name": "stderr",
     "output_type": "stream",
     "text": [
      "/var/folders/d0/6cymk_pn0yl4bjbhkblw54bh0000gn/T/ipykernel_62021/598726705.py:11: RuntimeWarning: invalid value encountered in log\n",
      "  L += np.sum(-np.log(sig)-at**2/sig)/2\n"
     ]
    }
   ],
   "source": [
    "w0_tg  = [0.1,0.05,0.92,0.01]\n",
    "bnds = ((0.001,None), (0.001,None),(0.001,None),(0.001,None))\n",
    "w_tg = opt.minimize(ll_tgarch11, w0_tg, args = at*100, method='SLSQP',bounds=bnds).x"
   ]
  },
  {
   "cell_type": "code",
   "execution_count": 14,
   "id": "e4cc9a66",
   "metadata": {},
   "outputs": [
    {
     "name": "stdout",
     "output_type": "stream",
     "text": [
      "the optimal parameter for the model is a0: 0.03790114647945401 a1: 0.07536032453742512 b1: 0.7644180538381198 y1: 0.2704068684851337\n"
     ]
    }
   ],
   "source": [
    "print('the optimal parameter for the model is a0:',w_tg[0],'a1:',w_tg[1],'b1:',w_tg[2],'y1:',w_tg[3])"
   ]
  },
  {
   "cell_type": "markdown",
   "id": "28a48c4c",
   "metadata": {},
   "source": [
    "## d model comparion compare mle of bc and using Schwartz Bayesian Criteria to compare likelihood functions when the number of parameters is different."
   ]
  },
  {
   "cell_type": "code",
   "execution_count": 15,
   "id": "7dcf7ab2",
   "metadata": {},
   "outputs": [
    {
     "name": "stdout",
     "output_type": "stream",
     "text": [
      "mle for model in c is : -3052.394065737338 mle for model in b is : -3022.49754178248\n",
      "based on the loglikelihood here, using model b has larger logL and considered as better than using c\n"
     ]
    }
   ],
   "source": [
    "logLa = -ll_garch11(w_n, at*100, distr='N')\n",
    "logLb = -ll_garch11(w_gem, at*100, distr='GED')\n",
    "logLc = -ll_tgarch11(w_tg, at*100)\n",
    "print('mle for model in c is :',logLc,'mle for model in b is :',logLb)\n",
    "print('based on the loglikelihood here, using model b has larger logL and considered as better than using c')"
   ]
  },
  {
   "cell_type": "code",
   "execution_count": 16,
   "id": "205249da",
   "metadata": {},
   "outputs": [
    {
     "name": "stdout",
     "output_type": "stream",
     "text": [
      "the result from SB criteria for model in a is : 6210.764485636474  for model in b is : 6076.284862482917\n",
      "based on the Schwartz Bayesian Criteria here, using model b has smaller SBC and considered as better than using a\n",
      "overall model b is the best model among three.\n"
     ]
    }
   ],
   "source": [
    "def SBC(mle,p,t):\n",
    "    return -2*mle + p*np.log(t)\n",
    "print('the result from SB criteria for model in a is :'\n",
    "      ,SBC(logLa,3,len(at)),' for model in b is :',SBC(logLb,4,len(at)))\n",
    "print('based on the Schwartz Bayesian Criteria here, using model b has smaller SBC and considered as better than using a')\n",
    "print('overall model b is the best model among three.')"
   ]
  },
  {
   "cell_type": "markdown",
   "id": "93e9b1ae",
   "metadata": {},
   "source": [
    "## 2 These options expire on Friday, December 9, 2022, which is 7 trading days from Wednesday, November 30. Assume that the annual risk-free rate, rf , is 4.71% and there are no dividends."
   ]
  },
  {
   "cell_type": "code",
   "execution_count": 17,
   "id": "ac88d7a3",
   "metadata": {},
   "outputs": [],
   "source": [
    "T = 7 / 252\n",
    "rf = .0471\n",
    "S, Kc, Kp = 407.68, 416, 400\n",
    "N = 1000 # num of simulation \n",
    "n = 100 # num of interval\n"
   ]
  },
  {
   "cell_type": "code",
   "execution_count": 18,
   "id": "ab09139d",
   "metadata": {},
   "outputs": [],
   "source": [
    "def gen_path(para,n):\n",
    "    sig = np.zeros(n)\n",
    "    a = np.zeros(n)\n",
    "    sig[0] = para[0]/(1-para[1]-para[2]) #from the pic\n",
    "    rand = np.random.standard_normal(n)\n",
    "    a[0]  = np.sqrt(sig[0]) * rand[0]\n",
    "    for i in range(1,n):\n",
    "        if a[i-1]< 0:\n",
    "            new = para[0] + (para[1]+ para[3])*a[i-1]**2 + para[2]* sig[i-1]\n",
    "        else:\n",
    "            new = para[0] + para[1]*a[i-1]**2 + para[2]* sig[i-1]\n",
    "        sig[i] = new\n",
    "        a[i] = np.sqrt(new)*rand[i]\n",
    "    return sig/10 , a \n",
    "# need to adjust sigma ,since its from 100* return \n",
    "       "
   ]
  },
  {
   "cell_type": "code",
   "execution_count": 19,
   "id": "39f59a79",
   "metadata": {},
   "outputs": [],
   "source": [
    "def MC_call(S,K,T,r,N,n,para):\n",
    "    dt = T/n\n",
    "    ret = 0\n",
    "    sig_ = np.zeros([N,n])\n",
    "    a_ = np.zeros([N,n])\n",
    "    rand = np.random.normal(size=(N,n))\n",
    "    for i in range(N):\n",
    "        sig, a = gen_path(para,n)\n",
    "        sig_[i] = sig\n",
    "        a_[i] = a\n",
    "    #sig_ = np.ones([N,n])*0.2\n",
    "    S = S * np.exp(np.sum((r - 0.5 * sig_ ** 2) * dt + sig_* np.sqrt(dt)*rand , axis=1))\n",
    "    C0 = np.exp(-r * T) * sum(np.maximum(S - K, 0)) / N\n",
    "    return C0\n",
    "\n",
    "def MC_put(S,K,T,r,N,n,para):\n",
    "    dt = T/n\n",
    "    ret = 0\n",
    "    sig_ = np.zeros([N,n])\n",
    "    a_ = np.zeros([N,n])\n",
    "    rand = np.random.normal(size=(N,n))\n",
    "    for i in range(N):\n",
    "        sig, a = gen_path(para,n)\n",
    "        sig_[i] = sig\n",
    "        a_[i] = a\n",
    "    S = S * np.exp(np.sum((r - 0.5 * sig_ ** 2) * dt + sig_* np.sqrt(dt)*rand , axis=1))\n",
    "    C0 = np.exp(-r * T) * sum(np.maximum(K - S, 0)) / N\n",
    "    return C0"
   ]
  },
  {
   "cell_type": "code",
   "execution_count": 20,
   "id": "3bc4fe1e",
   "metadata": {},
   "outputs": [
    {
     "name": "stdout",
     "output_type": "stream",
     "text": [
      "call price by GARCH model is  1.8847576537460267\n",
      "put price by GARCH model is  1.6603231505717297\n"
     ]
    }
   ],
   "source": [
    "np.random.seed(123)\n",
    "call = MC_call(S,Kc,T,rf,10000,n,w_tg)\n",
    "put = MC_put(S,Kp,T,rf,10000,n,w_tg)\n",
    "print('call price by GARCH model is ',call)\n",
    "print('put price by GARCH model is ', put)"
   ]
  },
  {
   "cell_type": "code",
   "execution_count": 21,
   "id": "4bda9bcf",
   "metadata": {},
   "outputs": [],
   "source": [
    "from scipy.stats import norm\n",
    "\n",
    "def BS_CALL(S, K, T, r, sigma):\n",
    "    d1 = (np.log(S/K) + (r + sigma**2/2)*T) / (sigma*np.sqrt(T))\n",
    "    d2 = d1 - sigma * np.sqrt(T)\n",
    "    return S * norm.cdf(d1) - K * np.exp(-r*T)* norm.cdf(d2)\n",
    "\n",
    "def BS_PUT(S, K, T, r, sigma):\n",
    "    d1 = (np.log(S/K) + (r + sigma**2/2)*T) / (sigma*np.sqrt(T))\n",
    "    d2 = d1 - sigma* np.sqrt(T)\n",
    "    return K*np.exp(-r*T)*norm.cdf(-d2) - S*norm.cdf(-d1)"
   ]
  },
  {
   "cell_type": "code",
   "execution_count": 22,
   "id": "638d56d7",
   "metadata": {},
   "outputs": [],
   "source": [
    "from scipy.optimize import fsolve\n",
    "def BS_IMVC(vol):\n",
    "    return BS_CALL(S, Kc, T, rf, vol)-call\n",
    "def BS_IMVP(vol):\n",
    "    return BS_PUT(S, Kp, T, rf, vol)-put\n",
    "\n",
    "call_IMV = fsolve(BS_IMVC,0.02)\n",
    "put_IMV = fsolve(BS_IMVP,0.02)"
   ]
  },
  {
   "cell_type": "code",
   "execution_count": 23,
   "id": "207c0f32",
   "metadata": {},
   "outputs": [
    {
     "name": "stdout",
     "output_type": "stream",
     "text": [
      "The corresponding Implied Volatility for the Call price is  [0.17558805]\n",
      "The corresponding Implied Volatility for the Put price is  [0.17356378]\n"
     ]
    }
   ],
   "source": [
    "print('The corresponding Implied Volatility for the Call price is ',call_IMV)\n",
    "print('The corresponding Implied Volatility for the Put price is ',put_IMV)"
   ]
  },
  {
   "cell_type": "markdown",
   "id": "13fdcee3",
   "metadata": {},
   "source": [
    "## b TARCH Model and Skew of the options"
   ]
  },
  {
   "cell_type": "code",
   "execution_count": 24,
   "id": "3f6b1567",
   "metadata": {},
   "outputs": [
    {
     "name": "stdout",
     "output_type": "stream",
     "text": [
      "Spread in the implied volatility is  [0.20242715]\n"
     ]
    }
   ],
   "source": [
    "print('Spread in the implied volatility is ',(call_IMV-put_IMV)*100)"
   ]
  },
  {
   "cell_type": "markdown",
   "id": "140a363d",
   "metadata": {},
   "source": [
    "The spread (skew) obtained from market data is larger than our model prediction and majority of past index, which suggest the market is uncertain about the call option value and lead to a increase in the volatility. With a believe the value will revert to a lower value I will long the put option can short the call option."
   ]
  },
  {
   "cell_type": "markdown",
   "id": "9f27abc6",
   "metadata": {},
   "source": [
    "## 3 stochastic volatility model"
   ]
  },
  {
   "cell_type": "code",
   "execution_count": 25,
   "id": "ac905b6a",
   "metadata": {},
   "outputs": [],
   "source": [
    "df3 = pd.read_csv('SV_hw3.csv').iloc[:,1:].values.ravel()"
   ]
  },
  {
   "cell_type": "code",
   "execution_count": 83,
   "id": "50bb33cb",
   "metadata": {},
   "outputs": [],
   "source": [
    "# para = a, b, r\n",
    "def e_s(i,a,b,r):\n",
    "    return np.exp(i*a+(i*b)**2/2)\n",
    "\n",
    "def e_e(i):\n",
    "    return gamma((i+1)/2)*2**(i/2)/np.sqrt(np.pi)\n",
    "\n",
    "def e_ss(i,a,b,r):\n",
    "    return np.exp(2*a+b**2*(1+r**i))\n",
    "\n",
    "def e_s2s2(i,a,b,r):\n",
    "    return np.exp(4*a+4*b**2*(1+r**i))\n",
    "\n",
    "def g1(para,arr):\n",
    "    T = len(arr)\n",
    "    l = sum(np.abs(arr))/T\n",
    "    r = e_s(1,para[0],para[1],para[2])*e_e(1)\n",
    "    return l-r\n",
    "\n",
    "def g2(para,arr):\n",
    "    T = len(arr)\n",
    "    l = sum(arr**2)/T\n",
    "    r = e_s(2,para[0],para[1],para[2])*e_e(2)\n",
    "    return l-r\n",
    "\n",
    "def g3(para,arr):\n",
    "    T = len(arr)\n",
    "    l = sum(np.abs(arr[1:])*np.abs(arr[:-1]))/(T-1)\n",
    "    r = e_ss(1,para[0],para[1],para[2])*e_e(1)**2\n",
    "    return l-r\n",
    "\n",
    "def g4(para,arr):\n",
    "    T = len(arr)\n",
    "    l = sum(np.abs(arr[2:])*np.abs(arr[:-2]))/(T-2)\n",
    "    r = e_ss(2,para[0],para[1],para[2])*e_e(1)**2\n",
    "    return l-r\n",
    "\n",
    "def g5(para,arr):\n",
    "    T = len(arr)\n",
    "    l = sum((arr[1:]*arr[:-1])**2)/(T-1)\n",
    "    r = e_s2s2(1,para[0],para[1],para[2])*e_e(2)**2\n",
    "    return l-r\n",
    "\n",
    "def g_list(para,arr):\n",
    "    g = np.array([[g1(para,arr),g2(para,arr),g3(para,arr),g4(para,arr),g5(para,arr)]])\n",
    "    return g\n",
    "\n",
    "def W(para,arr):\n",
    "    g_ = g(para,arr)\n",
    "    S = g_.T @ g_* len(arr)\n",
    "    return np.linalg.inv(S)"
   ]
  },
  {
   "cell_type": "code",
   "execution_count": 84,
   "id": "8261ad91",
   "metadata": {},
   "outputs": [],
   "source": [
    "def optmizer(para,arr,W):\n",
    "    g_ = g(para,arr)\n",
    "    return (g_@ W @g_.T)[0][0]"
   ]
  },
  {
   "cell_type": "code",
   "execution_count": 115,
   "id": "23ca5a89",
   "metadata": {},
   "outputs": [],
   "source": [
    "para0 = [0.1,0.1,0.1]\n",
    "g0 = g_list(para0,df3)\n",
    "fmean = np.mean([g_list(para0,df3[:i]) for i in range(4,len(df3))],axis=0)\n",
    "S0 = len(df3-4)*(fmean.T@fmean)\n",
    "W0 = np.linalg.pinv(S0) \n",
    "bnds = ((0.0001,None), (0.0001,None),(0.0001,None))\n",
    "p_opt = opt.minimize(optmizer, para0, args = (df3,W0),bounds=bnds).x"
   ]
  },
  {
   "cell_type": "code",
   "execution_count": 116,
   "id": "60f45750",
   "metadata": {},
   "outputs": [],
   "source": [
    "\n",
    "fmean = np.mean([g_list(p_opt,df3[:i]) for i in range(4,len(df3))],axis=0)\n",
    "S0 = len(df3-4)*(fmean.T@fmean)\n",
    "W0 = np.linalg.pinv(S0) \n",
    "bnds = ((0.0001,None), (0.0001,None),(0.0001,None))\n",
    "p_final = opt.minimize(optmizer, para0, args = (df3,W0),bounds=bnds).x"
   ]
  },
  {
   "cell_type": "code",
   "execution_count": 118,
   "id": "066e8870",
   "metadata": {},
   "outputs": [
    {
     "name": "stdout",
     "output_type": "stream",
     "text": [
      "the optimal parameter for the model is alpha: 0.0001 beta: 0.0028915480437934626 rho: 0.09894644703861646\n"
     ]
    }
   ],
   "source": [
    "print('the optimal parameter for the model is alpha:',p_final[0],'beta:',p_final[1],'rho:',p_final[2])"
   ]
  },
  {
   "cell_type": "code",
   "execution_count": 120,
   "id": "9cb87ff9",
   "metadata": {},
   "outputs": [
    {
     "name": "stdout",
     "output_type": "stream",
     "text": [
      "the parameter for alpha is not accurate here,there are some problems in the optimization\n"
     ]
    }
   ],
   "source": [
    "print('the parameter for alpha is not accurate here,there are some problems in the optimization')"
   ]
  },
  {
   "cell_type": "code",
   "execution_count": null,
   "id": "e73a0f5b",
   "metadata": {},
   "outputs": [],
   "source": []
  }
 ],
 "metadata": {
  "kernelspec": {
   "display_name": "Python 3 (ipykernel)",
   "language": "python",
   "name": "python3"
  },
  "language_info": {
   "codemirror_mode": {
    "name": "ipython",
    "version": 3
   },
   "file_extension": ".py",
   "mimetype": "text/x-python",
   "name": "python",
   "nbconvert_exporter": "python",
   "pygments_lexer": "ipython3",
   "version": "3.9.7"
  }
 },
 "nbformat": 4,
 "nbformat_minor": 5
}
